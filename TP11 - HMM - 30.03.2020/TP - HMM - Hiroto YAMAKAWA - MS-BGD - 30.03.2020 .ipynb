{
 "cells": [
  {
   "cell_type": "markdown",
   "metadata": {},
   "source": [
    "# TP - Chaînes de Markov - HMMs\n",
    "\n",
    "## Elève : Hiroto YAMAKAWA\n",
    "### MS BGD 2019 - 2020"
   ]
  },
  {
   "cell_type": "code",
   "execution_count": 1,
   "metadata": {},
   "outputs": [],
   "source": [
    "import numpy as np\n",
    "import pandas as pd\n",
    "import matplotlib.pyplot as plt"
   ]
  },
  {
   "cell_type": "markdown",
   "metadata": {},
   "source": [
    "## I.1 Fonctions dont vous pouvez avoir besoin"
   ]
  },
  {
   "cell_type": "code",
   "execution_count": 2,
   "metadata": {},
   "outputs": [],
   "source": [
    "bigrameng = np.loadtxt(\"bigramenglish.txt\")"
   ]
  },
  {
   "cell_type": "code",
   "execution_count": 3,
   "metadata": {},
   "outputs": [],
   "source": [
    "#Création du dictionnaire clé-valeur associant états et caractères :\n",
    "# indices modifiés par rapport au sujet\n",
    "dic = {0 : ' ', 1 : 'a', 2 : 'b', 3: 'c', 4 : 'd', 5 : 'e', 6: 'f',  7 : 'g', 8 : 'h', 9: 'i', 10 : 'j', 11 : 'k',\n",
    " 12 : 'l', 13: 'm', 14 : 'n', 15 : 'o', 16: 'p', 17: 'q', 18: 'r' , 19: 's',  20: 't', \n",
    " 21: 'u', 22: 'v',  23 : 'w', 24 : 'x' , 25: 'y',  26 : 'z', 27 : ' ' }"
   ]
  },
  {
   "cell_type": "code",
   "execution_count": 4,
   "metadata": {},
   "outputs": [],
   "source": [
    "dic_inv = {v: k for k, v in dic.items()}"
   ]
  },
  {
   "cell_type": "markdown",
   "metadata": {},
   "source": [
    "## I.2 Chaîne de Markov\n",
    "\n",
    ">On veut générer des mots dans une langue donnée en modélisant la formation de ces mots par une chaîne de Markov. Les 28 états du modèle correspondent aux 26 lettres de l’alphabet auxquelles et on ajoute un état ‘espace initial’ (état 1) et un état ‘espace final’ (état 28) qui sert à terminer les mots.\n",
    "La correspondance entre la valeur numérique d’un état et un caractère est la suivante : \n",
    ">- l’état 1 correspond à un espace (avant le début d’un mot) et l’état 28 à celui d’un espace en fin de mot.\n",
    ">- Les états 2 à 27 correspondent aux caractères de a à z. On pourra utiliser une structure de dictionnaire en python pour faire cette correspondance.\n",
    "On utilisera une chaîne de Markov ergodique entre les 26 états correspondants aux lettres de l’alphabet."
   ]
  },
  {
   "cell_type": "markdown",
   "metadata": {},
   "source": [
    "### 1.2.a Matrice de transitions"
   ]
  },
  {
   "cell_type": "markdown",
   "metadata": {},
   "source": [
    "*A quelles probabilités correspond la première ligne de la matrice de transition ? et celles de la\n",
    "dernière colonne ?*"
   ]
  },
  {
   "cell_type": "markdown",
   "metadata": {},
   "source": [
    "\n",
    "- la première ligne de la matrice correspond aux probabilités de passer de l'état initial ' ' aux autres états , c'est à dire de commencer par une certaine lettre\n",
    "\n",
    "- la dernière ligne de la matrice correspond aux probabilités de passer d'un état quelconque à l'état final ' '\n"
   ]
  },
  {
   "cell_type": "markdown",
   "metadata": {},
   "source": [
    "*Pour chaque lettre de l’alphabet, indiquer la transition la plus fréquente depuis cette lettre*"
   ]
  },
  {
   "cell_type": "code",
   "execution_count": 5,
   "metadata": {},
   "outputs": [
    {
     "name": "stdout",
     "output_type": "stream",
     "text": [
      "transition la plus fréquente pour:\n",
      "la lettre  : 't'\n",
      "la lettre a: 'n'\n",
      "la lettre b: 'e'\n",
      "la lettre c: 'o'\n",
      "la lettre d: ' '\n",
      "la lettre e: ' '\n",
      "la lettre f: ' '\n",
      "la lettre g: ' '\n",
      "la lettre h: 'e'\n",
      "la lettre i: 'n'\n",
      "la lettre j: 'o'\n",
      "la lettre k: ' '\n",
      "la lettre l: 'e'\n",
      "la lettre m: 'e'\n",
      "la lettre n: ' '\n",
      "la lettre o: 'n'\n",
      "la lettre p: 'e'\n",
      "la lettre q: 'u'\n",
      "la lettre r: 'e'\n",
      "la lettre s: ' '\n",
      "la lettre t: 'h'\n",
      "la lettre u: 'r'\n",
      "la lettre v: 'e'\n",
      "la lettre w: 'a'\n",
      "la lettre x: 't'\n",
      "la lettre y: ' '\n",
      "la lettre z: 'e'\n",
      "la lettre  : ' '\n"
     ]
    }
   ],
   "source": [
    "transition_max = np.argmax(bigrameng, axis = 1)\n",
    "\n",
    "print('transition la plus fréquente pour:')\n",
    "for i,j in enumerate(transition_max):\n",
    "    num = i                     \n",
    "    letter = dic[num]\n",
    "    next_letter = dic[j]\n",
    "    print(f'la lettre {letter}: \\'{next_letter}\\'')"
   ]
  },
  {
   "cell_type": "markdown",
   "metadata": {},
   "source": [
    "### 1.2.b Générer un mot "
   ]
  },
  {
   "cell_type": "markdown",
   "metadata": {},
   "source": [
    "*Ecrire une fonction etat_suivant qui génère un état (à t+1) à partir de l’état courant (à t) et à\n",
    "l’aide de la matrice de transitions et de la fonction de répartition*"
   ]
  },
  {
   "cell_type": "code",
   "execution_count": 6,
   "metadata": {
    "scrolled": true
   },
   "outputs": [],
   "source": [
    "def etat_suivant(state_t, mat):\n",
    "    i = np.random.random() \n",
    "    fonction_rep_state_t = np.cumsum(mat[state_t,:])      \n",
    "     \n",
    "    next_state = np.where(i<fonction_rep_state_t)[0][0]                \n",
    "    \n",
    "    return next_state"
   ]
  },
  {
   "cell_type": "markdown",
   "metadata": {},
   "source": [
    "*Afficher sur un graphique la fonction de répartition pour une ligne de la matrice de transition et expliquer son rôle pour la génération de l’état à t+1*"
   ]
  },
  {
   "cell_type": "code",
   "execution_count": 7,
   "metadata": {},
   "outputs": [],
   "source": [
    "fonction_repartition = np.cumsum(bigrameng,axis =1)"
   ]
  },
  {
   "cell_type": "code",
   "execution_count": 8,
   "metadata": {},
   "outputs": [
    {
     "data": {
      "text/plain": [
       "array([0.        , 0.03624126, 0.03627003, 0.03629879, 0.04348952,\n",
       "       0.18040096, 0.18126384, 0.18500302, 0.18586591, 0.27589381,\n",
       "       0.27618144, 0.27646907, 0.28624845, 0.29142578, 0.29430207,\n",
       "       0.32910519, 0.32913395, 0.32916271, 0.34814623, 0.36828027,\n",
       "       0.36830903, 0.38873069, 0.39160698, 0.39246987, 0.39249863,\n",
       "       0.40112751, 0.40115627, 1.        ])"
      ]
     },
     "execution_count": 8,
     "metadata": {},
     "output_type": "execute_result"
    }
   ],
   "source": [
    "fonction_repartition[4]"
   ]
  },
  {
   "cell_type": "code",
   "execution_count": 9,
   "metadata": {},
   "outputs": [
    {
     "data": {
      "image/png": "[encoded data removed]",
      "text/plain": [
       "<Figure size 720x432 with 1 Axes>"
      ]
     },
     "metadata": {
      "needs_background": "light"
     },
     "output_type": "display_data"
    }
   ],
   "source": [
    "plt.figure(figsize=(10,6))\n",
    "plt.title('Fonction de répartition permettant de générer l\\'état à t+1')\n",
    "plt.plot(fonction_repartition[4], label = 'fonction de répartition pour l\\'état 3, lettre c' , marker ='x') \n",
    "plt.plot(fonction_repartition[14], label = 'fonction de répartition pour l\\'état 14, lettre N', marker ='x') \n",
    "plt.plot(fonction_repartition[20], label = 'fonction de répartition pour l\\'état 20, lettre T', marker ='x') \n",
    "plt.hlines(0.26, 0, 26, label = 'valeur i tirée aléatoirement, ici i = 0.26')\n",
    "plt.plot(9,fonction_repartition[4][9] , 'red', marker ='o' , label = 'première valeur supérieure à i' )\n",
    "\n",
    "plt.plot(5,fonction_repartition[14][5] , 'red', marker ='o' )\n",
    "plt.plot(8,fonction_repartition[20][8] , 'red', marker ='o' )\n",
    "plt.legend(loc = 'best')\n",
    "plt.ylabel('Fonction de répartition cumsum')\n",
    "plt.xlabel('état')\n",
    "plt.show()"
   ]
  },
  {
   "cell_type": "markdown",
   "metadata": {},
   "source": [
    "**Explication** : \n",
    "on se place à l'état t, soit sur l'une des 28 fonctions de répartition  (3 sont affichés au dessus) \n",
    "\n",
    "On tire une valeur aléatoire i comprise entre 0 et 1. On regarde ensuite la première valeur de la fonction de répartition plus grande que i.En inversant la fonction de répartition en cette valeur (qui consiste à regarder l'axe des abscisses sur le graphe) , on trouve l'état suivant.\n",
    "\n"
   ]
  },
  {
   "cell_type": "markdown",
   "metadata": {},
   "source": [
    "*Utiliser cette fonction pour écrire la fonction genere_state_seq qui génère une séquence d’états jusqu’à aboutir à l’état final (27)* "
   ]
  },
  {
   "cell_type": "code",
   "execution_count": 10,
   "metadata": {},
   "outputs": [],
   "source": [
    "def genere_state_seq(mat):\n",
    "    state = 0\n",
    "    seq = [state]\n",
    "    final_state = mat.shape[0]-1 \n",
    "    while state != final_state:\n",
    "        next_state = etat_suivant(state, mat)\n",
    "        seq.append(next_state)\n",
    "        state = next_state\n",
    "    return seq"
   ]
  },
  {
   "cell_type": "markdown",
   "metadata": {},
   "source": [
    "*Ecrire une fonction display_seq qui transforme une séquence d’états en séquence de caractères, à l’aide d’un dictionnaire*"
   ]
  },
  {
   "cell_type": "code",
   "execution_count": 11,
   "metadata": {},
   "outputs": [],
   "source": [
    "def display_seq(seq,dic = dic) :\n",
    "    sequence = [dic[i] for i in seq]\n",
    "    return ''.join(sequence)"
   ]
  },
  {
   "cell_type": "markdown",
   "metadata": {},
   "source": [
    "*Utiliser ces fonctions pour générer des mots et donner des exemples de mots générés*"
   ]
  },
  {
   "cell_type": "code",
   "execution_count": 12,
   "metadata": {
    "scrolled": false
   },
   "outputs": [
    {
     "name": "stdout",
     "output_type": "stream",
     "text": [
      "exemples de mots générés:\n",
      " tisoon \n",
      " se \n",
      " r \n",
      " as \n",
      " auceilverem \n"
     ]
    }
   ],
   "source": [
    "print('exemples de mots générés:')\n",
    "for i in range(5):\n",
    "    test = genere_state_seq(bigrameng)\n",
    "    print(display_seq(test))"
   ]
  },
  {
   "cell_type": "markdown",
   "metadata": {},
   "source": [
    "### 1.2.c Générer une phrase"
   ]
  },
  {
   "cell_type": "markdown",
   "metadata": {},
   "source": [
    "> On veut générer une suite de mots (phrase). \n",
    "\n",
    "*Créer un état final de phrase (état 29,correspondant au caractère '.' ) dont la probabilité de transition vers cet état depuis un état final de mot est 0.1. Ecrire une fonction modifie_mat_dic qui modifie la matrice de transition et le dictionnaire en conséquence. Donner des exemples de phrases générées.*"
   ]
  },
  {
   "cell_type": "code",
   "execution_count": 13,
   "metadata": {},
   "outputs": [],
   "source": [
    "def modifie_mat_dic(mat,dic):\n",
    "    \n",
    "    dic[28] = '.'\n",
    "    dic_inv['.'] =28\n",
    "    mat = np.r_[mat,np.zeros((1,28))]\n",
    "    mat = np.c_[mat,np.zeros((29,1))]\n",
    "    mat[27,0] = 0.9\n",
    "    mat[27,27] = 0\n",
    "    mat[27,28] = 0.1\n",
    "    mat[28,28] = 1\n",
    "    \n",
    "    return mat, dic\n"
   ]
  },
  {
   "cell_type": "code",
   "execution_count": 14,
   "metadata": {
    "scrolled": false
   },
   "outputs": [
    {
     "data": {
      "text/html": [
       "<div>\n",
       "<style scoped>\n",
       "    .dataframe tbody tr th:only-of-type {\n",
       "        vertical-align: middle;\n",
       "    }\n",
       "\n",
       "    .dataframe tbody tr th {\n",
       "        vertical-align: top;\n",
       "    }\n",
       "\n",
       "    .dataframe thead th {\n",
       "        text-align: right;\n",
       "    }\n",
       "</style>\n",
       "<table border=\"1\" class=\"dataframe\">\n",
       "  <thead>\n",
       "    <tr style=\"text-align: right;\">\n",
       "      <th></th>\n",
       "      <th>0</th>\n",
       "      <th>1</th>\n",
       "      <th>2</th>\n",
       "      <th>3</th>\n",
       "      <th>4</th>\n",
       "      <th>5</th>\n",
       "      <th>6</th>\n",
       "      <th>7</th>\n",
       "      <th>8</th>\n",
       "      <th>9</th>\n",
       "      <th>...</th>\n",
       "      <th>19</th>\n",
       "      <th>20</th>\n",
       "      <th>21</th>\n",
       "      <th>22</th>\n",
       "      <th>23</th>\n",
       "      <th>24</th>\n",
       "      <th>25</th>\n",
       "      <th>26</th>\n",
       "      <th>27</th>\n",
       "      <th>28</th>\n",
       "    </tr>\n",
       "  </thead>\n",
       "  <tbody>\n",
       "    <tr>\n",
       "      <td>0</td>\n",
       "      <td>0.0</td>\n",
       "      <td>0.112687</td>\n",
       "      <td>0.043609</td>\n",
       "      <td>0.045455</td>\n",
       "      <td>0.032904</td>\n",
       "      <td>0.022094</td>\n",
       "      <td>0.041763</td>\n",
       "      <td>0.015556</td>\n",
       "      <td>0.064438</td>\n",
       "      <td>0.068920</td>\n",
       "      <td>...</td>\n",
       "      <td>0.066916</td>\n",
       "      <td>0.164522</td>\n",
       "      <td>0.010388</td>\n",
       "      <td>0.007066</td>\n",
       "      <td>0.070502</td>\n",
       "      <td>0.000105</td>\n",
       "      <td>0.010599</td>\n",
       "      <td>0.000053</td>\n",
       "      <td>0.000000</td>\n",
       "      <td>0.0</td>\n",
       "    </tr>\n",
       "    <tr>\n",
       "      <td>1</td>\n",
       "      <td>0.0</td>\n",
       "      <td>0.000015</td>\n",
       "      <td>0.022934</td>\n",
       "      <td>0.033960</td>\n",
       "      <td>0.038076</td>\n",
       "      <td>0.000147</td>\n",
       "      <td>0.006174</td>\n",
       "      <td>0.024698</td>\n",
       "      <td>0.000882</td>\n",
       "      <td>0.037047</td>\n",
       "      <td>...</td>\n",
       "      <td>0.095410</td>\n",
       "      <td>0.133486</td>\n",
       "      <td>0.011761</td>\n",
       "      <td>0.033372</td>\n",
       "      <td>0.009850</td>\n",
       "      <td>0.000588</td>\n",
       "      <td>0.019847</td>\n",
       "      <td>0.000882</td>\n",
       "      <td>0.067478</td>\n",
       "      <td>0.0</td>\n",
       "    </tr>\n",
       "    <tr>\n",
       "      <td>2</td>\n",
       "      <td>0.0</td>\n",
       "      <td>0.071874</td>\n",
       "      <td>0.000790</td>\n",
       "      <td>0.000079</td>\n",
       "      <td>0.000790</td>\n",
       "      <td>0.282758</td>\n",
       "      <td>0.000079</td>\n",
       "      <td>0.000079</td>\n",
       "      <td>0.000079</td>\n",
       "      <td>0.070295</td>\n",
       "      <td>...</td>\n",
       "      <td>0.015007</td>\n",
       "      <td>0.010268</td>\n",
       "      <td>0.127162</td>\n",
       "      <td>0.001580</td>\n",
       "      <td>0.000079</td>\n",
       "      <td>0.000079</td>\n",
       "      <td>0.106627</td>\n",
       "      <td>0.000079</td>\n",
       "      <td>0.007108</td>\n",
       "      <td>0.0</td>\n",
       "    </tr>\n",
       "    <tr>\n",
       "      <td>3</td>\n",
       "      <td>0.0</td>\n",
       "      <td>0.136747</td>\n",
       "      <td>0.000041</td>\n",
       "      <td>0.017500</td>\n",
       "      <td>0.001221</td>\n",
       "      <td>0.136747</td>\n",
       "      <td>0.000041</td>\n",
       "      <td>0.000041</td>\n",
       "      <td>0.162794</td>\n",
       "      <td>0.073257</td>\n",
       "      <td>...</td>\n",
       "      <td>0.000814</td>\n",
       "      <td>0.087095</td>\n",
       "      <td>0.031338</td>\n",
       "      <td>0.000041</td>\n",
       "      <td>0.000041</td>\n",
       "      <td>0.000041</td>\n",
       "      <td>0.005291</td>\n",
       "      <td>0.000041</td>\n",
       "      <td>0.019535</td>\n",
       "      <td>0.0</td>\n",
       "    </tr>\n",
       "    <tr>\n",
       "      <td>4</td>\n",
       "      <td>0.0</td>\n",
       "      <td>0.036241</td>\n",
       "      <td>0.000029</td>\n",
       "      <td>0.000029</td>\n",
       "      <td>0.007191</td>\n",
       "      <td>0.136911</td>\n",
       "      <td>0.000863</td>\n",
       "      <td>0.003739</td>\n",
       "      <td>0.000863</td>\n",
       "      <td>0.090028</td>\n",
       "      <td>...</td>\n",
       "      <td>0.020134</td>\n",
       "      <td>0.000029</td>\n",
       "      <td>0.020422</td>\n",
       "      <td>0.002876</td>\n",
       "      <td>0.000863</td>\n",
       "      <td>0.000029</td>\n",
       "      <td>0.008629</td>\n",
       "      <td>0.000029</td>\n",
       "      <td>0.598844</td>\n",
       "      <td>0.0</td>\n",
       "    </tr>\n",
       "    <tr>\n",
       "      <td>5</td>\n",
       "      <td>0.0</td>\n",
       "      <td>0.045607</td>\n",
       "      <td>0.003171</td>\n",
       "      <td>0.018653</td>\n",
       "      <td>0.078064</td>\n",
       "      <td>0.027980</td>\n",
       "      <td>0.009606</td>\n",
       "      <td>0.007181</td>\n",
       "      <td>0.001679</td>\n",
       "      <td>0.016042</td>\n",
       "      <td>...</td>\n",
       "      <td>0.072095</td>\n",
       "      <td>0.023317</td>\n",
       "      <td>0.000466</td>\n",
       "      <td>0.016601</td>\n",
       "      <td>0.008860</td>\n",
       "      <td>0.008394</td>\n",
       "      <td>0.015109</td>\n",
       "      <td>0.000093</td>\n",
       "      <td>0.360474</td>\n",
       "      <td>0.0</td>\n",
       "    </tr>\n",
       "    <tr>\n",
       "      <td>6</td>\n",
       "      <td>0.0</td>\n",
       "      <td>0.066869</td>\n",
       "      <td>0.000047</td>\n",
       "      <td>0.000047</td>\n",
       "      <td>0.000047</td>\n",
       "      <td>0.074351</td>\n",
       "      <td>0.033668</td>\n",
       "      <td>0.000047</td>\n",
       "      <td>0.000047</td>\n",
       "      <td>0.077625</td>\n",
       "      <td>...</td>\n",
       "      <td>0.001870</td>\n",
       "      <td>0.046294</td>\n",
       "      <td>0.032733</td>\n",
       "      <td>0.000047</td>\n",
       "      <td>0.000047</td>\n",
       "      <td>0.000047</td>\n",
       "      <td>0.003273</td>\n",
       "      <td>0.000047</td>\n",
       "      <td>0.396540</td>\n",
       "      <td>0.0</td>\n",
       "    </tr>\n",
       "    <tr>\n",
       "      <td>7</td>\n",
       "      <td>0.0</td>\n",
       "      <td>0.065942</td>\n",
       "      <td>0.000611</td>\n",
       "      <td>0.000061</td>\n",
       "      <td>0.002442</td>\n",
       "      <td>0.128221</td>\n",
       "      <td>0.000061</td>\n",
       "      <td>0.012212</td>\n",
       "      <td>0.135548</td>\n",
       "      <td>0.062889</td>\n",
       "      <td>...</td>\n",
       "      <td>0.026255</td>\n",
       "      <td>0.006106</td>\n",
       "      <td>0.021370</td>\n",
       "      <td>0.000061</td>\n",
       "      <td>0.000611</td>\n",
       "      <td>0.000061</td>\n",
       "      <td>0.003053</td>\n",
       "      <td>0.000061</td>\n",
       "      <td>0.315667</td>\n",
       "      <td>0.0</td>\n",
       "    </tr>\n",
       "    <tr>\n",
       "      <td>8</td>\n",
       "      <td>0.0</td>\n",
       "      <td>0.141975</td>\n",
       "      <td>0.000772</td>\n",
       "      <td>0.000019</td>\n",
       "      <td>0.000019</td>\n",
       "      <td>0.469715</td>\n",
       "      <td>0.000579</td>\n",
       "      <td>0.000019</td>\n",
       "      <td>0.000386</td>\n",
       "      <td>0.140239</td>\n",
       "      <td>...</td>\n",
       "      <td>0.001736</td>\n",
       "      <td>0.024498</td>\n",
       "      <td>0.019097</td>\n",
       "      <td>0.000019</td>\n",
       "      <td>0.001157</td>\n",
       "      <td>0.000019</td>\n",
       "      <td>0.002122</td>\n",
       "      <td>0.000019</td>\n",
       "      <td>0.103009</td>\n",
       "      <td>0.0</td>\n",
       "    </tr>\n",
       "    <tr>\n",
       "      <td>9</td>\n",
       "      <td>0.0</td>\n",
       "      <td>0.020688</td>\n",
       "      <td>0.010501</td>\n",
       "      <td>0.076954</td>\n",
       "      <td>0.038085</td>\n",
       "      <td>0.033697</td>\n",
       "      <td>0.023666</td>\n",
       "      <td>0.034010</td>\n",
       "      <td>0.000016</td>\n",
       "      <td>0.000313</td>\n",
       "      <td>...</td>\n",
       "      <td>0.127578</td>\n",
       "      <td>0.117547</td>\n",
       "      <td>0.000940</td>\n",
       "      <td>0.032600</td>\n",
       "      <td>0.000016</td>\n",
       "      <td>0.001097</td>\n",
       "      <td>0.000016</td>\n",
       "      <td>0.006269</td>\n",
       "      <td>0.024607</td>\n",
       "      <td>0.0</td>\n",
       "    </tr>\n",
       "    <tr>\n",
       "      <td>10</td>\n",
       "      <td>0.0</td>\n",
       "      <td>0.047939</td>\n",
       "      <td>0.000959</td>\n",
       "      <td>0.000959</td>\n",
       "      <td>0.000959</td>\n",
       "      <td>0.162991</td>\n",
       "      <td>0.000959</td>\n",
       "      <td>0.000959</td>\n",
       "      <td>0.000959</td>\n",
       "      <td>0.000959</td>\n",
       "      <td>...</td>\n",
       "      <td>0.000959</td>\n",
       "      <td>0.000959</td>\n",
       "      <td>0.297220</td>\n",
       "      <td>0.000959</td>\n",
       "      <td>0.000959</td>\n",
       "      <td>0.000959</td>\n",
       "      <td>0.000959</td>\n",
       "      <td>0.000959</td>\n",
       "      <td>0.000959</td>\n",
       "      <td>0.0</td>\n",
       "    </tr>\n",
       "    <tr>\n",
       "      <td>11</td>\n",
       "      <td>0.0</td>\n",
       "      <td>0.005268</td>\n",
       "      <td>0.000176</td>\n",
       "      <td>0.000176</td>\n",
       "      <td>0.000176</td>\n",
       "      <td>0.307287</td>\n",
       "      <td>0.003512</td>\n",
       "      <td>0.000176</td>\n",
       "      <td>0.001756</td>\n",
       "      <td>0.121159</td>\n",
       "      <td>...</td>\n",
       "      <td>0.050922</td>\n",
       "      <td>0.000176</td>\n",
       "      <td>0.001756</td>\n",
       "      <td>0.000176</td>\n",
       "      <td>0.000176</td>\n",
       "      <td>0.000176</td>\n",
       "      <td>0.008780</td>\n",
       "      <td>0.000176</td>\n",
       "      <td>0.372256</td>\n",
       "      <td>0.0</td>\n",
       "    </tr>\n",
       "    <tr>\n",
       "      <td>12</td>\n",
       "      <td>0.0</td>\n",
       "      <td>0.072925</td>\n",
       "      <td>0.000603</td>\n",
       "      <td>0.000301</td>\n",
       "      <td>0.076541</td>\n",
       "      <td>0.170860</td>\n",
       "      <td>0.014766</td>\n",
       "      <td>0.000904</td>\n",
       "      <td>0.000030</td>\n",
       "      <td>0.137411</td>\n",
       "      <td>...</td>\n",
       "      <td>0.020793</td>\n",
       "      <td>0.015971</td>\n",
       "      <td>0.020793</td>\n",
       "      <td>0.015368</td>\n",
       "      <td>0.002109</td>\n",
       "      <td>0.000030</td>\n",
       "      <td>0.088896</td>\n",
       "      <td>0.000030</td>\n",
       "      <td>0.153383</td>\n",
       "      <td>0.0</td>\n",
       "    </tr>\n",
       "    <tr>\n",
       "      <td>13</td>\n",
       "      <td>0.0</td>\n",
       "      <td>0.182293</td>\n",
       "      <td>0.015044</td>\n",
       "      <td>0.000044</td>\n",
       "      <td>0.000044</td>\n",
       "      <td>0.267687</td>\n",
       "      <td>0.002212</td>\n",
       "      <td>0.000044</td>\n",
       "      <td>0.000044</td>\n",
       "      <td>0.094686</td>\n",
       "      <td>...</td>\n",
       "      <td>0.030087</td>\n",
       "      <td>0.000885</td>\n",
       "      <td>0.033627</td>\n",
       "      <td>0.000044</td>\n",
       "      <td>0.000044</td>\n",
       "      <td>0.000044</td>\n",
       "      <td>0.025220</td>\n",
       "      <td>0.000044</td>\n",
       "      <td>0.157958</td>\n",
       "      <td>0.0</td>\n",
       "    </tr>\n",
       "    <tr>\n",
       "      <td>14</td>\n",
       "      <td>0.0</td>\n",
       "      <td>0.025855</td>\n",
       "      <td>0.000327</td>\n",
       "      <td>0.036000</td>\n",
       "      <td>0.158073</td>\n",
       "      <td>0.086727</td>\n",
       "      <td>0.006873</td>\n",
       "      <td>0.103091</td>\n",
       "      <td>0.000655</td>\n",
       "      <td>0.033055</td>\n",
       "      <td>...</td>\n",
       "      <td>0.049909</td>\n",
       "      <td>0.100473</td>\n",
       "      <td>0.005236</td>\n",
       "      <td>0.004909</td>\n",
       "      <td>0.000164</td>\n",
       "      <td>0.000818</td>\n",
       "      <td>0.013418</td>\n",
       "      <td>0.000016</td>\n",
       "      <td>0.294219</td>\n",
       "      <td>0.0</td>\n",
       "    </tr>\n",
       "    <tr>\n",
       "      <td>15</td>\n",
       "      <td>0.0</td>\n",
       "      <td>0.007360</td>\n",
       "      <td>0.010335</td>\n",
       "      <td>0.014407</td>\n",
       "      <td>0.016599</td>\n",
       "      <td>0.003758</td>\n",
       "      <td>0.128093</td>\n",
       "      <td>0.008299</td>\n",
       "      <td>0.003758</td>\n",
       "      <td>0.005637</td>\n",
       "      <td>...</td>\n",
       "      <td>0.026151</td>\n",
       "      <td>0.046665</td>\n",
       "      <td>0.115565</td>\n",
       "      <td>0.019261</td>\n",
       "      <td>0.033824</td>\n",
       "      <td>0.002036</td>\n",
       "      <td>0.009552</td>\n",
       "      <td>0.000157</td>\n",
       "      <td>0.123082</td>\n",
       "      <td>0.0</td>\n",
       "    </tr>\n",
       "    <tr>\n",
       "      <td>16</td>\n",
       "      <td>0.0</td>\n",
       "      <td>0.124991</td>\n",
       "      <td>0.000691</td>\n",
       "      <td>0.000069</td>\n",
       "      <td>0.000069</td>\n",
       "      <td>0.194738</td>\n",
       "      <td>0.000069</td>\n",
       "      <td>0.000069</td>\n",
       "      <td>0.022788</td>\n",
       "      <td>0.041434</td>\n",
       "      <td>...</td>\n",
       "      <td>0.020026</td>\n",
       "      <td>0.035909</td>\n",
       "      <td>0.043505</td>\n",
       "      <td>0.000069</td>\n",
       "      <td>0.000691</td>\n",
       "      <td>0.000069</td>\n",
       "      <td>0.002762</td>\n",
       "      <td>0.000069</td>\n",
       "      <td>0.064222</td>\n",
       "      <td>0.0</td>\n",
       "    </tr>\n",
       "    <tr>\n",
       "      <td>17</td>\n",
       "      <td>0.0</td>\n",
       "      <td>0.001397</td>\n",
       "      <td>0.001397</td>\n",
       "      <td>0.001397</td>\n",
       "      <td>0.001397</td>\n",
       "      <td>0.001397</td>\n",
       "      <td>0.001397</td>\n",
       "      <td>0.001397</td>\n",
       "      <td>0.001397</td>\n",
       "      <td>0.001397</td>\n",
       "      <td>...</td>\n",
       "      <td>0.001397</td>\n",
       "      <td>0.001397</td>\n",
       "      <td>0.963687</td>\n",
       "      <td>0.001397</td>\n",
       "      <td>0.001397</td>\n",
       "      <td>0.001397</td>\n",
       "      <td>0.001397</td>\n",
       "      <td>0.001397</td>\n",
       "      <td>0.001397</td>\n",
       "      <td>0.0</td>\n",
       "    </tr>\n",
       "    <tr>\n",
       "      <td>18</td>\n",
       "      <td>0.0</td>\n",
       "      <td>0.080812</td>\n",
       "      <td>0.000779</td>\n",
       "      <td>0.014020</td>\n",
       "      <td>0.019862</td>\n",
       "      <td>0.244772</td>\n",
       "      <td>0.002142</td>\n",
       "      <td>0.010515</td>\n",
       "      <td>0.002531</td>\n",
       "      <td>0.095027</td>\n",
       "      <td>...</td>\n",
       "      <td>0.049461</td>\n",
       "      <td>0.037388</td>\n",
       "      <td>0.014605</td>\n",
       "      <td>0.006231</td>\n",
       "      <td>0.002142</td>\n",
       "      <td>0.000019</td>\n",
       "      <td>0.037582</td>\n",
       "      <td>0.000019</td>\n",
       "      <td>0.210889</td>\n",
       "      <td>0.0</td>\n",
       "    </tr>\n",
       "    <tr>\n",
       "      <td>19</td>\n",
       "      <td>0.0</td>\n",
       "      <td>0.040556</td>\n",
       "      <td>0.003163</td>\n",
       "      <td>0.014325</td>\n",
       "      <td>0.000558</td>\n",
       "      <td>0.114598</td>\n",
       "      <td>0.002791</td>\n",
       "      <td>0.000930</td>\n",
       "      <td>0.036277</td>\n",
       "      <td>0.034417</td>\n",
       "      <td>...</td>\n",
       "      <td>0.044463</td>\n",
       "      <td>0.135434</td>\n",
       "      <td>0.032742</td>\n",
       "      <td>0.001116</td>\n",
       "      <td>0.003163</td>\n",
       "      <td>0.000019</td>\n",
       "      <td>0.003721</td>\n",
       "      <td>0.000019</td>\n",
       "      <td>0.430302</td>\n",
       "      <td>0.0</td>\n",
       "    </tr>\n",
       "    <tr>\n",
       "      <td>20</td>\n",
       "      <td>0.0</td>\n",
       "      <td>0.035949</td>\n",
       "      <td>0.000013</td>\n",
       "      <td>0.003771</td>\n",
       "      <td>0.000126</td>\n",
       "      <td>0.084467</td>\n",
       "      <td>0.000503</td>\n",
       "      <td>0.000013</td>\n",
       "      <td>0.339375</td>\n",
       "      <td>0.089494</td>\n",
       "      <td>...</td>\n",
       "      <td>0.020614</td>\n",
       "      <td>0.019483</td>\n",
       "      <td>0.018603</td>\n",
       "      <td>0.000013</td>\n",
       "      <td>0.009050</td>\n",
       "      <td>0.000013</td>\n",
       "      <td>0.020740</td>\n",
       "      <td>0.000013</td>\n",
       "      <td>0.222731</td>\n",
       "      <td>0.0</td>\n",
       "    </tr>\n",
       "    <tr>\n",
       "      <td>21</td>\n",
       "      <td>0.0</td>\n",
       "      <td>0.021856</td>\n",
       "      <td>0.021419</td>\n",
       "      <td>0.052892</td>\n",
       "      <td>0.019233</td>\n",
       "      <td>0.031910</td>\n",
       "      <td>0.009180</td>\n",
       "      <td>0.044586</td>\n",
       "      <td>0.000044</td>\n",
       "      <td>0.026227</td>\n",
       "      <td>...</td>\n",
       "      <td>0.132010</td>\n",
       "      <td>0.145998</td>\n",
       "      <td>0.000044</td>\n",
       "      <td>0.000044</td>\n",
       "      <td>0.000044</td>\n",
       "      <td>0.002623</td>\n",
       "      <td>0.000437</td>\n",
       "      <td>0.000044</td>\n",
       "      <td>0.038467</td>\n",
       "      <td>0.0</td>\n",
       "    </tr>\n",
       "    <tr>\n",
       "      <td>22</td>\n",
       "      <td>0.0</td>\n",
       "      <td>0.077304</td>\n",
       "      <td>0.000099</td>\n",
       "      <td>0.000099</td>\n",
       "      <td>0.000099</td>\n",
       "      <td>0.618434</td>\n",
       "      <td>0.000099</td>\n",
       "      <td>0.000099</td>\n",
       "      <td>0.000099</td>\n",
       "      <td>0.241824</td>\n",
       "      <td>...</td>\n",
       "      <td>0.000099</td>\n",
       "      <td>0.000099</td>\n",
       "      <td>0.003964</td>\n",
       "      <td>0.000099</td>\n",
       "      <td>0.000099</td>\n",
       "      <td>0.000099</td>\n",
       "      <td>0.000991</td>\n",
       "      <td>0.000099</td>\n",
       "      <td>0.000099</td>\n",
       "      <td>0.0</td>\n",
       "    </tr>\n",
       "    <tr>\n",
       "      <td>23</td>\n",
       "      <td>0.0</td>\n",
       "      <td>0.203239</td>\n",
       "      <td>0.000054</td>\n",
       "      <td>0.000054</td>\n",
       "      <td>0.002174</td>\n",
       "      <td>0.138028</td>\n",
       "      <td>0.002174</td>\n",
       "      <td>0.000054</td>\n",
       "      <td>0.181502</td>\n",
       "      <td>0.167917</td>\n",
       "      <td>...</td>\n",
       "      <td>0.023910</td>\n",
       "      <td>0.000543</td>\n",
       "      <td>0.000054</td>\n",
       "      <td>0.000054</td>\n",
       "      <td>0.000054</td>\n",
       "      <td>0.000054</td>\n",
       "      <td>0.000543</td>\n",
       "      <td>0.000054</td>\n",
       "      <td>0.102163</td>\n",
       "      <td>0.0</td>\n",
       "    </tr>\n",
       "    <tr>\n",
       "      <td>24</td>\n",
       "      <td>0.0</td>\n",
       "      <td>0.100309</td>\n",
       "      <td>0.000772</td>\n",
       "      <td>0.123457</td>\n",
       "      <td>0.000772</td>\n",
       "      <td>0.084877</td>\n",
       "      <td>0.000772</td>\n",
       "      <td>0.000772</td>\n",
       "      <td>0.046296</td>\n",
       "      <td>0.100309</td>\n",
       "      <td>...</td>\n",
       "      <td>0.000772</td>\n",
       "      <td>0.200617</td>\n",
       "      <td>0.030864</td>\n",
       "      <td>0.038580</td>\n",
       "      <td>0.000772</td>\n",
       "      <td>0.007716</td>\n",
       "      <td>0.000772</td>\n",
       "      <td>0.000772</td>\n",
       "      <td>0.123457</td>\n",
       "      <td>0.0</td>\n",
       "    </tr>\n",
       "    <tr>\n",
       "      <td>25</td>\n",
       "      <td>0.0</td>\n",
       "      <td>0.003785</td>\n",
       "      <td>0.000063</td>\n",
       "      <td>0.000063</td>\n",
       "      <td>0.000063</td>\n",
       "      <td>0.048568</td>\n",
       "      <td>0.000063</td>\n",
       "      <td>0.000063</td>\n",
       "      <td>0.000063</td>\n",
       "      <td>0.011984</td>\n",
       "      <td>...</td>\n",
       "      <td>0.033430</td>\n",
       "      <td>0.005677</td>\n",
       "      <td>0.000063</td>\n",
       "      <td>0.000063</td>\n",
       "      <td>0.003154</td>\n",
       "      <td>0.000063</td>\n",
       "      <td>0.000063</td>\n",
       "      <td>0.000063</td>\n",
       "      <td>0.775829</td>\n",
       "      <td>0.0</td>\n",
       "    </tr>\n",
       "    <tr>\n",
       "      <td>26</td>\n",
       "      <td>0.0</td>\n",
       "      <td>0.307102</td>\n",
       "      <td>0.001919</td>\n",
       "      <td>0.001919</td>\n",
       "      <td>0.001919</td>\n",
       "      <td>0.556622</td>\n",
       "      <td>0.001919</td>\n",
       "      <td>0.001919</td>\n",
       "      <td>0.001919</td>\n",
       "      <td>0.038388</td>\n",
       "      <td>...</td>\n",
       "      <td>0.001919</td>\n",
       "      <td>0.001919</td>\n",
       "      <td>0.001919</td>\n",
       "      <td>0.019194</td>\n",
       "      <td>0.001919</td>\n",
       "      <td>0.001919</td>\n",
       "      <td>0.001919</td>\n",
       "      <td>0.019194</td>\n",
       "      <td>0.001919</td>\n",
       "      <td>0.0</td>\n",
       "    </tr>\n",
       "    <tr>\n",
       "      <td>27</td>\n",
       "      <td>0.9</td>\n",
       "      <td>0.000000</td>\n",
       "      <td>0.000000</td>\n",
       "      <td>0.000000</td>\n",
       "      <td>0.000000</td>\n",
       "      <td>0.000000</td>\n",
       "      <td>0.000000</td>\n",
       "      <td>0.000000</td>\n",
       "      <td>0.000000</td>\n",
       "      <td>0.000000</td>\n",
       "      <td>...</td>\n",
       "      <td>0.000000</td>\n",
       "      <td>0.000000</td>\n",
       "      <td>0.000000</td>\n",
       "      <td>0.000000</td>\n",
       "      <td>0.000000</td>\n",
       "      <td>0.000000</td>\n",
       "      <td>0.000000</td>\n",
       "      <td>0.000000</td>\n",
       "      <td>0.000000</td>\n",
       "      <td>0.1</td>\n",
       "    </tr>\n",
       "    <tr>\n",
       "      <td>28</td>\n",
       "      <td>0.0</td>\n",
       "      <td>0.000000</td>\n",
       "      <td>0.000000</td>\n",
       "      <td>0.000000</td>\n",
       "      <td>0.000000</td>\n",
       "      <td>0.000000</td>\n",
       "      <td>0.000000</td>\n",
       "      <td>0.000000</td>\n",
       "      <td>0.000000</td>\n",
       "      <td>0.000000</td>\n",
       "      <td>...</td>\n",
       "      <td>0.000000</td>\n",
       "      <td>0.000000</td>\n",
       "      <td>0.000000</td>\n",
       "      <td>0.000000</td>\n",
       "      <td>0.000000</td>\n",
       "      <td>0.000000</td>\n",
       "      <td>0.000000</td>\n",
       "      <td>0.000000</td>\n",
       "      <td>0.000000</td>\n",
       "      <td>1.0</td>\n",
       "    </tr>\n",
       "  </tbody>\n",
       "</table>\n",
       "<p>29 rows × 29 columns</p>\n",
       "</div>"
      ],
      "text/plain": [
       "     0         1         2         3         4         5         6         7   \\\n",
       "0   0.0  0.112687  0.043609  0.045455  0.032904  0.022094  0.041763  0.015556   \n",
       "1   0.0  0.000015  0.022934  0.033960  0.038076  0.000147  0.006174  0.024698   \n",
       "2   0.0  0.071874  0.000790  0.000079  0.000790  0.282758  0.000079  0.000079   \n",
       "3   0.0  0.136747  0.000041  0.017500  0.001221  0.136747  0.000041  0.000041   \n",
       "4   0.0  0.036241  0.000029  0.000029  0.007191  0.136911  0.000863  0.003739   \n",
       "5   0.0  0.045607  0.003171  0.018653  0.078064  0.027980  0.009606  0.007181   \n",
       "6   0.0  0.066869  0.000047  0.000047  0.000047  0.074351  0.033668  0.000047   \n",
       "7   0.0  0.065942  0.000611  0.000061  0.002442  0.128221  0.000061  0.012212   \n",
       "8   0.0  0.141975  0.000772  0.000019  0.000019  0.469715  0.000579  0.000019   \n",
       "9   0.0  0.020688  0.010501  0.076954  0.038085  0.033697  0.023666  0.034010   \n",
       "10  0.0  0.047939  0.000959  0.000959  0.000959  0.162991  0.000959  0.000959   \n",
       "11  0.0  0.005268  0.000176  0.000176  0.000176  0.307287  0.003512  0.000176   \n",
       "12  0.0  0.072925  0.000603  0.000301  0.076541  0.170860  0.014766  0.000904   \n",
       "13  0.0  0.182293  0.015044  0.000044  0.000044  0.267687  0.002212  0.000044   \n",
       "14  0.0  0.025855  0.000327  0.036000  0.158073  0.086727  0.006873  0.103091   \n",
       "15  0.0  0.007360  0.010335  0.014407  0.016599  0.003758  0.128093  0.008299   \n",
       "16  0.0  0.124991  0.000691  0.000069  0.000069  0.194738  0.000069  0.000069   \n",
       "17  0.0  0.001397  0.001397  0.001397  0.001397  0.001397  0.001397  0.001397   \n",
       "18  0.0  0.080812  0.000779  0.014020  0.019862  0.244772  0.002142  0.010515   \n",
       "19  0.0  0.040556  0.003163  0.014325  0.000558  0.114598  0.002791  0.000930   \n",
       "20  0.0  0.035949  0.000013  0.003771  0.000126  0.084467  0.000503  0.000013   \n",
       "21  0.0  0.021856  0.021419  0.052892  0.019233  0.031910  0.009180  0.044586   \n",
       "22  0.0  0.077304  0.000099  0.000099  0.000099  0.618434  0.000099  0.000099   \n",
       "23  0.0  0.203239  0.000054  0.000054  0.002174  0.138028  0.002174  0.000054   \n",
       "24  0.0  0.100309  0.000772  0.123457  0.000772  0.084877  0.000772  0.000772   \n",
       "25  0.0  0.003785  0.000063  0.000063  0.000063  0.048568  0.000063  0.000063   \n",
       "26  0.0  0.307102  0.001919  0.001919  0.001919  0.556622  0.001919  0.001919   \n",
       "27  0.9  0.000000  0.000000  0.000000  0.000000  0.000000  0.000000  0.000000   \n",
       "28  0.0  0.000000  0.000000  0.000000  0.000000  0.000000  0.000000  0.000000   \n",
       "\n",
       "          8         9   ...        19        20        21        22        23  \\\n",
       "0   0.064438  0.068920  ...  0.066916  0.164522  0.010388  0.007066  0.070502   \n",
       "1   0.000882  0.037047  ...  0.095410  0.133486  0.011761  0.033372  0.009850   \n",
       "2   0.000079  0.070295  ...  0.015007  0.010268  0.127162  0.001580  0.000079   \n",
       "3   0.162794  0.073257  ...  0.000814  0.087095  0.031338  0.000041  0.000041   \n",
       "4   0.000863  0.090028  ...  0.020134  0.000029  0.020422  0.002876  0.000863   \n",
       "5   0.001679  0.016042  ...  0.072095  0.023317  0.000466  0.016601  0.008860   \n",
       "6   0.000047  0.077625  ...  0.001870  0.046294  0.032733  0.000047  0.000047   \n",
       "7   0.135548  0.062889  ...  0.026255  0.006106  0.021370  0.000061  0.000611   \n",
       "8   0.000386  0.140239  ...  0.001736  0.024498  0.019097  0.000019  0.001157   \n",
       "9   0.000016  0.000313  ...  0.127578  0.117547  0.000940  0.032600  0.000016   \n",
       "10  0.000959  0.000959  ...  0.000959  0.000959  0.297220  0.000959  0.000959   \n",
       "11  0.001756  0.121159  ...  0.050922  0.000176  0.001756  0.000176  0.000176   \n",
       "12  0.000030  0.137411  ...  0.020793  0.015971  0.020793  0.015368  0.002109   \n",
       "13  0.000044  0.094686  ...  0.030087  0.000885  0.033627  0.000044  0.000044   \n",
       "14  0.000655  0.033055  ...  0.049909  0.100473  0.005236  0.004909  0.000164   \n",
       "15  0.003758  0.005637  ...  0.026151  0.046665  0.115565  0.019261  0.033824   \n",
       "16  0.022788  0.041434  ...  0.020026  0.035909  0.043505  0.000069  0.000691   \n",
       "17  0.001397  0.001397  ...  0.001397  0.001397  0.963687  0.001397  0.001397   \n",
       "18  0.002531  0.095027  ...  0.049461  0.037388  0.014605  0.006231  0.002142   \n",
       "19  0.036277  0.034417  ...  0.044463  0.135434  0.032742  0.001116  0.003163   \n",
       "20  0.339375  0.089494  ...  0.020614  0.019483  0.018603  0.000013  0.009050   \n",
       "21  0.000044  0.026227  ...  0.132010  0.145998  0.000044  0.000044  0.000044   \n",
       "22  0.000099  0.241824  ...  0.000099  0.000099  0.003964  0.000099  0.000099   \n",
       "23  0.181502  0.167917  ...  0.023910  0.000543  0.000054  0.000054  0.000054   \n",
       "24  0.046296  0.100309  ...  0.000772  0.200617  0.030864  0.038580  0.000772   \n",
       "25  0.000063  0.011984  ...  0.033430  0.005677  0.000063  0.000063  0.003154   \n",
       "26  0.001919  0.038388  ...  0.001919  0.001919  0.001919  0.019194  0.001919   \n",
       "27  0.000000  0.000000  ...  0.000000  0.000000  0.000000  0.000000  0.000000   \n",
       "28  0.000000  0.000000  ...  0.000000  0.000000  0.000000  0.000000  0.000000   \n",
       "\n",
       "          24        25        26        27   28  \n",
       "0   0.000105  0.010599  0.000053  0.000000  0.0  \n",
       "1   0.000588  0.019847  0.000882  0.067478  0.0  \n",
       "2   0.000079  0.106627  0.000079  0.007108  0.0  \n",
       "3   0.000041  0.005291  0.000041  0.019535  0.0  \n",
       "4   0.000029  0.008629  0.000029  0.598844  0.0  \n",
       "5   0.008394  0.015109  0.000093  0.360474  0.0  \n",
       "6   0.000047  0.003273  0.000047  0.396540  0.0  \n",
       "7   0.000061  0.003053  0.000061  0.315667  0.0  \n",
       "8   0.000019  0.002122  0.000019  0.103009  0.0  \n",
       "9   0.001097  0.000016  0.006269  0.024607  0.0  \n",
       "10  0.000959  0.000959  0.000959  0.000959  0.0  \n",
       "11  0.000176  0.008780  0.000176  0.372256  0.0  \n",
       "12  0.000030  0.088896  0.000030  0.153383  0.0  \n",
       "13  0.000044  0.025220  0.000044  0.157958  0.0  \n",
       "14  0.000818  0.013418  0.000016  0.294219  0.0  \n",
       "15  0.002036  0.009552  0.000157  0.123082  0.0  \n",
       "16  0.000069  0.002762  0.000069  0.064222  0.0  \n",
       "17  0.001397  0.001397  0.001397  0.001397  0.0  \n",
       "18  0.000019  0.037582  0.000019  0.210889  0.0  \n",
       "19  0.000019  0.003721  0.000019  0.430302  0.0  \n",
       "20  0.000013  0.020740  0.000013  0.222731  0.0  \n",
       "21  0.002623  0.000437  0.000044  0.038467  0.0  \n",
       "22  0.000099  0.000991  0.000099  0.000099  0.0  \n",
       "23  0.000054  0.000543  0.000054  0.102163  0.0  \n",
       "24  0.007716  0.000772  0.000772  0.123457  0.0  \n",
       "25  0.000063  0.000063  0.000063  0.775829  0.0  \n",
       "26  0.001919  0.001919  0.019194  0.001919  0.0  \n",
       "27  0.000000  0.000000  0.000000  0.000000  0.1  \n",
       "28  0.000000  0.000000  0.000000  0.000000  1.0  \n",
       "\n",
       "[29 rows x 29 columns]"
      ]
     },
     "execution_count": 14,
     "metadata": {},
     "output_type": "execute_result"
    }
   ],
   "source": [
    "bigrameng,dic =  modifie_mat_dic(bigrameng,dic)\n",
    "pd.DataFrame(bigrameng)"
   ]
  },
  {
   "cell_type": "code",
   "execution_count": 15,
   "metadata": {
    "scrolled": false
   },
   "outputs": [
    {
     "name": "stdout",
     "output_type": "stream",
     "text": [
      "exemples de phrases générées\n",
      "1 :  thind  canspromed  wofoveutwinted  d  he .\n",
      "2 :  wremee .\n",
      "3 :  lve  gll  ily  hinaleiconchacren  ncrine  cty  thicos .\n",
      "4 :  io  cut .\n",
      "5 :  d  tis  n .\n"
     ]
    }
   ],
   "source": [
    "print('exemples de phrases générées')\n",
    "for i in range(5):\n",
    "    test = genere_state_seq(bigrameng)\n",
    "    print(str(i+1)+' : '+str(display_seq(test)))"
   ]
  },
  {
   "cell_type": "markdown",
   "metadata": {},
   "source": [
    "## 1.3 Reconnaissance de la langue"
   ]
  },
  {
   "cell_type": "markdown",
   "metadata": {},
   "source": [
    "*Charger la matrice des transitions entre caractères pour le français*"
   ]
  },
  {
   "cell_type": "code",
   "execution_count": 16,
   "metadata": {},
   "outputs": [],
   "source": [
    "bigramfr = np.loadtxt(\"bigramfrancais.txt\")"
   ]
  },
  {
   "cell_type": "markdown",
   "metadata": {},
   "source": [
    "*Ecrire une fonction calc_vraisemblance qui calcule la vraisemblance du modèle français pour une phrase donnée en multipliant les probabilités de transition. Pour tenir compte de toutes les transitions (notamment celles entre espaces de fin et de début de mots et vers la fin de phrase) on pourra transformer une séquence « mot1 mot2.» par la séquence « -mot1+-mot2+.», les signes - , +\n",
    "et . représentant l’état initial de mot, l’état final de mot et l’état final de phrase, respectivement.*"
   ]
  },
  {
   "cell_type": "code",
   "execution_count": 17,
   "metadata": {},
   "outputs": [],
   "source": [
    "dic2 = dic.copy()\n",
    "dic2[0]= '-'\n",
    "dic2[27]='+'"
   ]
  },
  {
   "cell_type": "code",
   "execution_count": 18,
   "metadata": {},
   "outputs": [],
   "source": [
    "dic_inv2 = {v: k for k, v in dic2.items()}"
   ]
  },
  {
   "cell_type": "code",
   "execution_count": 19,
   "metadata": {},
   "outputs": [],
   "source": [
    "# use function modifie_mat_dic defined above\n",
    "bigramfr_,dic2_ =  modifie_mat_dic(bigramfr,dic2)"
   ]
  },
  {
   "cell_type": "code",
   "execution_count": 20,
   "metadata": {},
   "outputs": [],
   "source": [
    "def calc_vraisemblance(sequence, mat):\n",
    "    sequence = '-'+sequence.replace(' ','+-')+'+.'\n",
    "    seq = [dic_inv2[i] for i in sequence]\n",
    "    vraisemblance=1\n",
    "    for i,j in zip(seq[:-1], seq[1:]):\n",
    "        vraisemblance = vraisemblance* mat[int(i),int(j)]\n",
    "    return vraisemblance\n",
    "      "
   ]
  },
  {
   "cell_type": "markdown",
   "metadata": {},
   "source": [
    "*Calculer la vraisemblance des modèles français et anglais pour la phrase « to be or not to be ». De même calculer la vraisemblance des modèles français et anglais pour la phrase « etre ou ne pas etre ».*"
   ]
  },
  {
   "cell_type": "code",
   "execution_count": 21,
   "metadata": {},
   "outputs": [
    {
     "name": "stdout",
     "output_type": "stream",
     "text": [
      "vraisemblance du modèle anglais pour la phrase 'to be or not to be' : 8.112892227809415e-20\n",
      "vraisemblance du modèle français pour la phrase 'to be or not to be' : 5.9602081018686406e-30\n"
     ]
    }
   ],
   "source": [
    "val1 = calc_vraisemblance('to be or not to be', bigrameng)\n",
    "val2 = calc_vraisemblance('to be or not to be', bigramfr_)\n",
    "print(f'vraisemblance du modèle anglais pour la phrase \\'to be or not to be\\' : {val1}')\n",
    "print(f'vraisemblance du modèle français pour la phrase \\'to be or not to be\\' : {val2}')"
   ]
  },
  {
   "cell_type": "code",
   "execution_count": 22,
   "metadata": {
    "scrolled": true
   },
   "outputs": [
    {
     "name": "stdout",
     "output_type": "stream",
     "text": [
      "vraisemblance du modèle anglais pour la phrase 'etre ou ne pas etre' : 4.462288711775253e-24\n",
      "vraisemblance du modèle français pour la phrase 'etre ou ne pas etre' : 1.145706887234789e-19\n"
     ]
    }
   ],
   "source": [
    "val3 = calc_vraisemblance('etre ou ne pas etre', bigrameng)\n",
    "val4 = calc_vraisemblance('etre ou ne pas etre', bigramfr_)\n",
    "print(f'vraisemblance du modèle anglais pour la phrase \\'etre ou ne pas etre\\' : {val3}')\n",
    "print(f'vraisemblance du modèle français pour la phrase \\'etre ou ne pas etre\\' : {val4}')\n"
   ]
  },
  {
   "cell_type": "markdown",
   "metadata": {},
   "source": [
    "**Conclusion** : On parvient à identifier la langue dans laquelle la phrase a été écrite en calculant la vraisemblance des modèles"
   ]
  },
  {
   "cell_type": "markdown",
   "metadata": {},
   "source": [
    "# Part 2"
   ]
  },
  {
   "cell_type": "markdown",
   "metadata": {},
   "source": [
    "> L’objectif de cette partie est de générer des séquences d’observations suivant un modèle de Markov Caché donné, puis de calculer la vraisemblance d’une séquence d’observations suivant un modèle de Markov Caché donné."
   ]
  },
  {
   "cell_type": "markdown",
   "metadata": {},
   "source": [
    "## II. 2. Génération de séquences d’observations"
   ]
  },
  {
   "cell_type": "markdown",
   "metadata": {},
   "source": [
    ">Les matrices A0.txt, B0.txt, vect_p0.txt contiennent les matrices A, B, et le vecteur π correspondant au modèle de Markov caché du chiffre 0. Le fichier matrice_symboles.txt\n",
    "contient le dictionnaire. \n",
    "\n",
    "*Charger ces fichiers*"
   ]
  },
  {
   "cell_type": "code",
   "execution_count": 23,
   "metadata": {},
   "outputs": [],
   "source": [
    "path = 'data/'\n",
    "filename=path+\"matrice_symboles.txt\"\n",
    "  \n",
    "v=np.loadtxt(filename) "
   ]
  },
  {
   "cell_type": "code",
   "execution_count": 24,
   "metadata": {
    "scrolled": true
   },
   "outputs": [
    {
     "data": {
      "text/plain": [
       "(5, 32)"
      ]
     },
     "execution_count": 24,
     "metadata": {},
     "output_type": "execute_result"
    }
   ],
   "source": [
    "v.shape"
   ]
  },
  {
   "cell_type": "code",
   "execution_count": 25,
   "metadata": {},
   "outputs": [],
   "source": [
    "A0 = np.loadtxt(path+'A0.txt')\n",
    "B0 = np.loadtxt(path+'B0.txt')\n",
    "pi0 = np.loadtxt(path+'vect_pi0.txt')"
   ]
  },
  {
   "cell_type": "markdown",
   "metadata": {},
   "source": [
    "II. 2.1 *A quoi correspondent les zéros de la matrice B ? et ceux de la matrice A et du vecteur\n",
    "π ?*"
   ]
  },
  {
   "cell_type": "markdown",
   "metadata": {},
   "source": [
    "- les zéros de la matrice B correspondent aux probabilités nulles de générer ces observations dans l'état dans lequel on se trouve. si b_ij= 0, pour l'état j, l'observation i ne peut être généré\n",
    "- les zéros de la matrice A correspondent à la probabilité nulle de passer d'un état à un autre. si a_ij = 0, on ne peut pas passer de l'état i à j\n",
    "- Un zéro en i dans le  vecteur $\\pi$ indique que l'état initial ne peut pas être l'état i."
   ]
  },
  {
   "cell_type": "markdown",
   "metadata": {},
   "source": [
    "II.2.2 *Ecrire une fonction etat_suivant qui génère un état q t+1 (à t+1) à partir de l’état courant q t\n",
    "(à t) à l’aide de la matrice de transitions et de la fonction de répartition cumsum.*\n"
   ]
  },
  {
   "cell_type": "code",
   "execution_count": 26,
   "metadata": {},
   "outputs": [],
   "source": [
    "def etat_suivant(state_t, mat=A0):\n",
    "    i = np.random.random() \n",
    "    fonction_rep_state_t = np.cumsum(mat[state_t])\n",
    "    next_state = np.where(i<fonction_rep_state_t)[0][0]  \n",
    "        \n",
    "    return next_state "
   ]
  },
  {
   "cell_type": "markdown",
   "metadata": {},
   "source": [
    "*Afficher la fonction de répartition pour une ligne de la matrice de transition et expliquer son rôle pour la génération de l’état à t+1*"
   ]
  },
  {
   "cell_type": "code",
   "execution_count": 27,
   "metadata": {},
   "outputs": [],
   "source": [
    "fonction_repartition=np.cumsum(A0, axis =1)"
   ]
  },
  {
   "cell_type": "code",
   "execution_count": 28,
   "metadata": {
    "scrolled": false
   },
   "outputs": [
    {
     "data": {
      "image/png": "[encoded data removed]",
      "text/plain": [
       "<Figure size 720x432 with 1 Axes>"
      ]
     },
     "metadata": {
      "needs_background": "light"
     },
     "output_type": "display_data"
    }
   ],
   "source": [
    "plt.figure(figsize=(10,6))\n",
    "plt.title('Fonction de répartition permettant de générer l\\'état à t+1')\n",
    "plt.plot(fonction_repartition[0], label = 'fonction de répartition pour la ligne 0 de la matrice A',marker ='x') \n",
    "plt.plot(fonction_repartition[2], label = 'fonction de répartition pour la ligne 2 de la matrice A',marker ='x') \n",
    "plt.hlines(0.26, 0, 4, label = 'valeur i tirée aléatoirement, ici i = 0.26')\n",
    "plt.legend(loc = 'best')\n",
    "plt.ylabel('Fonction de répartition cumsum')\n",
    "plt.xlabel('état')\n",
    "plt.show()"
   ]
  },
  {
   "cell_type": "markdown",
   "metadata": {},
   "source": [
    "**Explication** : similaire à la partie précédente"
   ]
  },
  {
   "cell_type": "markdown",
   "metadata": {},
   "source": [
    "II.2.3 *Générer une séquence d’observations suivant le modèle de Markov Caché du chiffre 0.\n",
    "On commencera par générer une séquence d’états suivant ce modèle à l’aide de la fonction\n",
    "etat_suivant. Puis on générera la séquence d’observations par le même procédé.*"
   ]
  },
  {
   "cell_type": "code",
   "execution_count": 29,
   "metadata": {},
   "outputs": [],
   "source": [
    "def genere_state_seq(mat):\n",
    "    state = 0\n",
    "    seq = [state]\n",
    "    final_state = mat.shape[0]-1 \n",
    "    while state != final_state:\n",
    "        next_state = etat_suivant(state, mat)\n",
    "        seq.append(next_state)\n",
    "        state = next_state\n",
    "    return seq\n"
   ]
  },
  {
   "cell_type": "code",
   "execution_count": 30,
   "metadata": {},
   "outputs": [],
   "source": [
    "def generate_obs(mat_trans,mat_obs):\n",
    "    #generate sequence of states\n",
    "    sequence = genere_state_seq(mat_trans)\n",
    "    \n",
    "    #generate observation's index for each state\n",
    "    list_observation = []\n",
    "    for state in sequence:\n",
    "        obs = etat_suivant(state, mat_obs)     #states must be in rows  transpose mat_obs if needed\n",
    "        list_observation.append(obs)\n",
    "    #plot image using matrix v with each observation's index\n",
    "    image = []\n",
    "    for i in list_observation:\n",
    "        \n",
    "        image.append(v[:,i])\n",
    "    \n",
    "    image = np.array(image).T\n",
    "    \n",
    "    print(image.shape)\n",
    "\n",
    "    plt.imshow(image*255, cmap=\"Greys\", interpolation=\"none\", aspect=\"auto\")"
   ]
  },
  {
   "cell_type": "code",
   "execution_count": 31,
   "metadata": {},
   "outputs": [
    {
     "name": "stdout",
     "output_type": "stream",
     "text": [
      "(5, 15)\n",
      "(5, 35)\n",
      "(5, 14)\n",
      "(5, 43)\n",
      "(5, 24)\n"
     ]
    },
    {
     "data": {
      "image/png": "[encoded data removed]",
      "text/plain": [
       "<Figure size 1800x360 with 5 Axes>"
      ]
     },
     "metadata": {
      "needs_background": "light"
     },
     "output_type": "display_data"
    }
   ],
   "source": [
    "f0= plt.figure(figsize=(25,5))\n",
    "\n",
    "for i in range(5):\n",
    "    f0.add_subplot(1,5,i+1)\n",
    "    generate_obs(A0,B0.T)\n"
   ]
  },
  {
   "cell_type": "markdown",
   "metadata": {},
   "source": [
    "II.2.4 *Visualiser le résultat sous forme d’image. Générer des séquences pour le chiffre 7 et le\n",
    "chiffre 1 (matrices B1.txt, B7.txt, etc...)*"
   ]
  },
  {
   "cell_type": "code",
   "execution_count": 32,
   "metadata": {},
   "outputs": [],
   "source": [
    "A1 = np.loadtxt(path+'A1.txt')\n",
    "A7 = np.loadtxt(path+'A7.txt')\n",
    "B1 = np.loadtxt(path+'B1.txt')\n",
    "B7 = np.loadtxt(path+'B7.txt')"
   ]
  },
  {
   "cell_type": "code",
   "execution_count": 33,
   "metadata": {},
   "outputs": [
    {
     "name": "stdout",
     "output_type": "stream",
     "text": [
      "(5, 10)\n",
      "(5, 7)\n",
      "(5, 29)\n",
      "(5, 34)\n",
      "(5, 10)\n"
     ]
    },
    {
     "data": {
      "image/png": "[encoded data removed]",
      "text/plain": [
       "<Figure size 1800x360 with 5 Axes>"
      ]
     },
     "metadata": {
      "needs_background": "light"
     },
     "output_type": "display_data"
    }
   ],
   "source": [
    "f1= plt.figure(figsize=(25,5))\n",
    "for i in range(5):\n",
    "    f1.add_subplot(1,5,i+1)\n",
    "    generate_obs(A1,B1.T)\n"
   ]
  },
  {
   "cell_type": "code",
   "execution_count": 34,
   "metadata": {},
   "outputs": [
    {
     "name": "stdout",
     "output_type": "stream",
     "text": [
      "(5, 21)\n",
      "(5, 14)\n",
      "(5, 11)\n",
      "(5, 15)\n",
      "(5, 19)\n"
     ]
    },
    {
     "data": {
      "image/png": "[encoded data removed]",
      "text/plain": [
       "<Figure size 1800x360 with 5 Axes>"
      ]
     },
     "metadata": {
      "needs_background": "light"
     },
     "output_type": "display_data"
    }
   ],
   "source": [
    "f7= plt.figure(figsize=(25,5))\n",
    "for i in range(5):\n",
    "    f7.add_subplot(1,5,i+1)\n",
    "    generate_obs(A7,B7.T)"
   ]
  },
  {
   "cell_type": "markdown",
   "metadata": {},
   "source": [
    "## II.3. Calcul de la vraisemblance de séquences d’observations"
   ]
  },
  {
   "cell_type": "markdown",
   "metadata": {},
   "source": [
    "Les fichiers SeqTest0.txt, SeqTest1.txt, SeqTest7.txt contiennent chacun 10 séquences\n",
    "d’observations de chiffres des 3 classes 0, 1 et 7, disposés en ligne. Le script suivant extrait la 5 ème observation de la 3 ème séquence des chiffres 0."
   ]
  },
  {
   "cell_type": "code",
   "execution_count": 35,
   "metadata": {},
   "outputs": [
    {
     "data": {
      "text/plain": [
       "1.0"
      ]
     },
     "execution_count": 35,
     "metadata": {},
     "output_type": "execute_result"
    }
   ],
   "source": [
    "filename= path + \"SeqTest0.txt\"\n",
    "  \n",
    "TestChiffres=np.loadtxt(filename)\n",
    "nex=2\n",
    "seq= TestChiffres[nex, : ]\n",
    "seq[4]"
   ]
  },
  {
   "cell_type": "code",
   "execution_count": 36,
   "metadata": {},
   "outputs": [],
   "source": [
    "SeqTest0 = np.loadtxt(path+'SeqTest0.txt')\n",
    "SeqTest1 = np.loadtxt(path+'SeqTest1.txt')\n",
    "SeqTest7 = np.loadtxt(path+'SeqTest7.txt')"
   ]
  },
  {
   "cell_type": "code",
   "execution_count": 37,
   "metadata": {},
   "outputs": [],
   "source": [
    "pi1 = np.loadtxt(path+'vect_pi1.txt')\n",
    "pi7 = np.loadtxt(path+'vect_pi7.txt')"
   ]
  },
  {
   "cell_type": "markdown",
   "metadata": {},
   "source": [
    "II.3.1 *Calculer la vraisemblance de ces séquences suivant chacun des modèles (0, 1 et 7) par\n",
    "l’algorithme de Viterbi (on pourra implémenter la version logarithmique de cet algorithme).\n",
    "Pour cela les matrices A, B et π seront converties en logarithmes (utiliser np.log).*"
   ]
  },
  {
   "cell_type": "code",
   "execution_count": 38,
   "metadata": {},
   "outputs": [
    {
     "data": {
      "text/html": [
       "<div>\n",
       "<style scoped>\n",
       "    .dataframe tbody tr th:only-of-type {\n",
       "        vertical-align: middle;\n",
       "    }\n",
       "\n",
       "    .dataframe tbody tr th {\n",
       "        vertical-align: top;\n",
       "    }\n",
       "\n",
       "    .dataframe thead th {\n",
       "        text-align: right;\n",
       "    }\n",
       "</style>\n",
       "<table border=\"1\" class=\"dataframe\">\n",
       "  <thead>\n",
       "    <tr style=\"text-align: right;\">\n",
       "      <th></th>\n",
       "      <th>0</th>\n",
       "      <th>1</th>\n",
       "      <th>2</th>\n",
       "      <th>3</th>\n",
       "      <th>4</th>\n",
       "      <th>5</th>\n",
       "      <th>6</th>\n",
       "      <th>7</th>\n",
       "      <th>8</th>\n",
       "      <th>9</th>\n",
       "      <th>...</th>\n",
       "      <th>22</th>\n",
       "      <th>23</th>\n",
       "      <th>24</th>\n",
       "      <th>25</th>\n",
       "      <th>26</th>\n",
       "      <th>27</th>\n",
       "      <th>28</th>\n",
       "      <th>29</th>\n",
       "      <th>30</th>\n",
       "      <th>31</th>\n",
       "    </tr>\n",
       "  </thead>\n",
       "  <tbody>\n",
       "    <tr>\n",
       "      <td>0</td>\n",
       "      <td>1.0</td>\n",
       "      <td>-0.000000</td>\n",
       "      <td>-0.000000</td>\n",
       "      <td>-0.000000</td>\n",
       "      <td>-0.000000</td>\n",
       "      <td>-0.000000</td>\n",
       "      <td>-0.000000</td>\n",
       "      <td>-0.000000</td>\n",
       "      <td>-0.000000</td>\n",
       "      <td>-0.000000</td>\n",
       "      <td>...</td>\n",
       "      <td>-0.000000</td>\n",
       "      <td>-0.000000</td>\n",
       "      <td>-0.000000</td>\n",
       "      <td>-0.000000</td>\n",
       "      <td>-0.000000</td>\n",
       "      <td>-0.000000</td>\n",
       "      <td>-0.000000</td>\n",
       "      <td>-0.000000</td>\n",
       "      <td>-0.000000</td>\n",
       "      <td>-0.000000</td>\n",
       "    </tr>\n",
       "    <tr>\n",
       "      <td>1</td>\n",
       "      <td>-0.0</td>\n",
       "      <td>0.000476</td>\n",
       "      <td>0.029521</td>\n",
       "      <td>0.000476</td>\n",
       "      <td>0.214861</td>\n",
       "      <td>0.000476</td>\n",
       "      <td>0.070541</td>\n",
       "      <td>0.000476</td>\n",
       "      <td>0.000476</td>\n",
       "      <td>0.000476</td>\n",
       "      <td>...</td>\n",
       "      <td>0.219368</td>\n",
       "      <td>0.000476</td>\n",
       "      <td>0.000476</td>\n",
       "      <td>0.023673</td>\n",
       "      <td>0.085369</td>\n",
       "      <td>0.000476</td>\n",
       "      <td>0.000476</td>\n",
       "      <td>0.000536</td>\n",
       "      <td>0.000476</td>\n",
       "      <td>0.000476</td>\n",
       "    </tr>\n",
       "    <tr>\n",
       "      <td>2</td>\n",
       "      <td>-0.0</td>\n",
       "      <td>0.000409</td>\n",
       "      <td>0.000409</td>\n",
       "      <td>0.003037</td>\n",
       "      <td>0.000409</td>\n",
       "      <td>0.000409</td>\n",
       "      <td>0.000409</td>\n",
       "      <td>0.000409</td>\n",
       "      <td>0.000409</td>\n",
       "      <td>0.000409</td>\n",
       "      <td>...</td>\n",
       "      <td>0.176163</td>\n",
       "      <td>0.000409</td>\n",
       "      <td>0.000409</td>\n",
       "      <td>0.026320</td>\n",
       "      <td>0.534950</td>\n",
       "      <td>0.000409</td>\n",
       "      <td>0.000409</td>\n",
       "      <td>0.047095</td>\n",
       "      <td>0.000409</td>\n",
       "      <td>0.068565</td>\n",
       "    </tr>\n",
       "    <tr>\n",
       "      <td>3</td>\n",
       "      <td>-0.0</td>\n",
       "      <td>0.007192</td>\n",
       "      <td>0.125146</td>\n",
       "      <td>0.008395</td>\n",
       "      <td>0.120352</td>\n",
       "      <td>0.005836</td>\n",
       "      <td>0.163519</td>\n",
       "      <td>0.000722</td>\n",
       "      <td>0.000722</td>\n",
       "      <td>0.000722</td>\n",
       "      <td>...</td>\n",
       "      <td>0.144094</td>\n",
       "      <td>0.000722</td>\n",
       "      <td>0.000722</td>\n",
       "      <td>0.000722</td>\n",
       "      <td>0.092293</td>\n",
       "      <td>0.000722</td>\n",
       "      <td>0.000722</td>\n",
       "      <td>0.000722</td>\n",
       "      <td>0.000722</td>\n",
       "      <td>0.000722</td>\n",
       "    </tr>\n",
       "    <tr>\n",
       "      <td>4</td>\n",
       "      <td>1.0</td>\n",
       "      <td>-0.000000</td>\n",
       "      <td>-0.000000</td>\n",
       "      <td>-0.000000</td>\n",
       "      <td>-0.000000</td>\n",
       "      <td>-0.000000</td>\n",
       "      <td>-0.000000</td>\n",
       "      <td>-0.000000</td>\n",
       "      <td>-0.000000</td>\n",
       "      <td>-0.000000</td>\n",
       "      <td>...</td>\n",
       "      <td>-0.000000</td>\n",
       "      <td>-0.000000</td>\n",
       "      <td>-0.000000</td>\n",
       "      <td>-0.000000</td>\n",
       "      <td>-0.000000</td>\n",
       "      <td>-0.000000</td>\n",
       "      <td>-0.000000</td>\n",
       "      <td>-0.000000</td>\n",
       "      <td>-0.000000</td>\n",
       "      <td>-0.000000</td>\n",
       "    </tr>\n",
       "  </tbody>\n",
       "</table>\n",
       "<p>5 rows × 32 columns</p>\n",
       "</div>"
      ],
      "text/plain": [
       "    0         1         2         3         4         5         6         7   \\\n",
       "0  1.0 -0.000000 -0.000000 -0.000000 -0.000000 -0.000000 -0.000000 -0.000000   \n",
       "1 -0.0  0.000476  0.029521  0.000476  0.214861  0.000476  0.070541  0.000476   \n",
       "2 -0.0  0.000409  0.000409  0.003037  0.000409  0.000409  0.000409  0.000409   \n",
       "3 -0.0  0.007192  0.125146  0.008395  0.120352  0.005836  0.163519  0.000722   \n",
       "4  1.0 -0.000000 -0.000000 -0.000000 -0.000000 -0.000000 -0.000000 -0.000000   \n",
       "\n",
       "         8         9   ...        22        23        24        25        26  \\\n",
       "0 -0.000000 -0.000000  ... -0.000000 -0.000000 -0.000000 -0.000000 -0.000000   \n",
       "1  0.000476  0.000476  ...  0.219368  0.000476  0.000476  0.023673  0.085369   \n",
       "2  0.000409  0.000409  ...  0.176163  0.000409  0.000409  0.026320  0.534950   \n",
       "3  0.000722  0.000722  ...  0.144094  0.000722  0.000722  0.000722  0.092293   \n",
       "4 -0.000000 -0.000000  ... -0.000000 -0.000000 -0.000000 -0.000000 -0.000000   \n",
       "\n",
       "         27        28        29        30        31  \n",
       "0 -0.000000 -0.000000 -0.000000 -0.000000 -0.000000  \n",
       "1  0.000476  0.000476  0.000536  0.000476  0.000476  \n",
       "2  0.000409  0.000409  0.047095  0.000409  0.068565  \n",
       "3  0.000722  0.000722  0.000722  0.000722  0.000722  \n",
       "4 -0.000000 -0.000000 -0.000000 -0.000000 -0.000000  \n",
       "\n",
       "[5 rows x 32 columns]"
      ]
     },
     "execution_count": 38,
     "metadata": {},
     "output_type": "execute_result"
    }
   ],
   "source": [
    "pd.DataFrame(B1.T)"
   ]
  },
  {
   "cell_type": "code",
   "execution_count": 39,
   "metadata": {
    "scrolled": true
   },
   "outputs": [],
   "source": [
    "def calcul_vraisemblance(A,B,pi,V):\n",
    "    \n",
    "    #initialisation\n",
    "    alpha = np.zeros((A.shape[0], V.shape[0]))\n",
    "    alpha[:,0] = pi1 * B.T[:,int(V[0]-1)]\n",
    "\n",
    "    for t in range(1,V.shape[0]): #obs\n",
    "        for j in range(A.shape[0]): #etat\n",
    "            alpha[j,t] = np.max(alpha[:,t - 1]*(A[:,j])) * B.T[j, int(V[t]-1)]\n",
    "    \n",
    "    return np.max(alpha[:,-1])"
   ]
  },
  {
   "cell_type": "code",
   "execution_count": 40,
   "metadata": {
    "scrolled": true
   },
   "outputs": [],
   "source": [
    "def vraisemblance_seq(A,B,pi,SeqTest):\n",
    "    vraisemblance_Seqtest = []\n",
    "    for i in range(len(SeqTest)):\n",
    "        vraisemblance = calcul_vraisemblance(A,B,pi1,SeqTest[i])\n",
    "        vraisemblance_Seqtest.append(vraisemblance)\n",
    "    return vraisemblance_Seqtest"
   ]
  },
  {
   "cell_type": "code",
   "execution_count": 41,
   "metadata": {
    "scrolled": true
   },
   "outputs": [
    {
     "data": {
      "text/plain": [
       "[2.06510175981344e-13,\n",
       " 6.400822084623179e-15,\n",
       " 2.1069604597695692e-17,\n",
       " 1.0722064390659984e-14,\n",
       " 8.246299969500078e-22,\n",
       " 1.0488453823193342e-14,\n",
       " 4.776077700141268e-16,\n",
       " 7.81089750315615e-12,\n",
       " 3.917129600605129e-19,\n",
       " 3.2864651588365785e-10]"
      ]
     },
     "execution_count": 41,
     "metadata": {},
     "output_type": "execute_result"
    }
   ],
   "source": [
    "vraisemblance_seq(A0,B0,pi0,SeqTest0)"
   ]
  },
  {
   "cell_type": "code",
   "execution_count": 42,
   "metadata": {
    "scrolled": true
   },
   "outputs": [
    {
     "data": {
      "text/plain": [
       "[6.929365370294003e-24,\n",
       " 1.8731207451190436e-06,\n",
       " 7.324305014521608e-11,\n",
       " 1.2417485759425124e-06,\n",
       " 1.101697135092775e-06,\n",
       " 6.544347398520984e-20,\n",
       " 1.6232665562532446e-13,\n",
       " 1.225717706983044e-14,\n",
       " 6.139591196488424e-09,\n",
       " 1.974796836833719e-05]"
      ]
     },
     "execution_count": 42,
     "metadata": {},
     "output_type": "execute_result"
    }
   ],
   "source": [
    "vraisemblance_seq(A1,B1,pi1,SeqTest1)"
   ]
  },
  {
   "cell_type": "code",
   "execution_count": 43,
   "metadata": {},
   "outputs": [
    {
     "data": {
      "text/plain": [
       "[7.243927987195974e-15,\n",
       " 2.2667067357811357e-14,\n",
       " 1.1021419540500785e-21,\n",
       " 3.2906286256407094e-19,\n",
       " 3.5014128994869544e-11,\n",
       " 1.5925184037154988e-13,\n",
       " 9.022997141001e-10,\n",
       " 4.472824346535445e-21,\n",
       " 2.0183034003209845e-14,\n",
       " 8.03449072309869e-12]"
      ]
     },
     "execution_count": 43,
     "metadata": {},
     "output_type": "execute_result"
    }
   ],
   "source": [
    "vraisemblance_seq(A7,B7,pi7,SeqTest7)"
   ]
  },
  {
   "cell_type": "markdown",
   "metadata": {},
   "source": [
    "II.3.2 *Donner le résultat de la classification des images de test en considérant un problème à\n",
    "trois classes : 0, 1 et 7.*"
   ]
  },
  {
   "cell_type": "code",
   "execution_count": 44,
   "metadata": {},
   "outputs": [],
   "source": [
    "def classification_image(seq):\n",
    "    classification_dic ={0:'0',1:'1',2:'7'}\n",
    "    sol1 = calcul_vraisemblance(A0,B0,pi0,seq)\n",
    "    sol2 = calcul_vraisemblance(A1,B1,pi1,seq)\n",
    "    sol3 = calcul_vraisemblance(A7,B7,pi7,seq)\n",
    "    i = np.argmax([sol1,sol2,sol3])\n",
    "    return classification_dic[i]"
   ]
  },
  {
   "cell_type": "code",
   "execution_count": 45,
   "metadata": {},
   "outputs": [],
   "source": [
    "def classification_images(SeqTest):\n",
    "    classification_Seqtest = []\n",
    "    for i in range(len(SeqTest)):\n",
    "        image = classification_image(SeqTest[i])\n",
    "        classification_Seqtest.append(image)\n",
    "    return classification_Seqtest"
   ]
  },
  {
   "cell_type": "code",
   "execution_count": 46,
   "metadata": {},
   "outputs": [
    {
     "data": {
      "text/plain": [
       "['0', '0', '0', '0', '0', '0', '0', '0', '0', '0']"
      ]
     },
     "execution_count": 46,
     "metadata": {},
     "output_type": "execute_result"
    }
   ],
   "source": [
    "classification_images(SeqTest0)"
   ]
  },
  {
   "cell_type": "code",
   "execution_count": 47,
   "metadata": {},
   "outputs": [
    {
     "data": {
      "text/plain": [
       "['1', '1', '1', '1', '1', '1', '1', '1', '1', '1']"
      ]
     },
     "execution_count": 47,
     "metadata": {},
     "output_type": "execute_result"
    }
   ],
   "source": [
    "classification_images(SeqTest1)"
   ]
  },
  {
   "cell_type": "code",
   "execution_count": 48,
   "metadata": {},
   "outputs": [
    {
     "data": {
      "text/plain": [
       "['7', '7', '1', '7', '7', '7', '7', '7', '7', '7']"
      ]
     },
     "execution_count": 48,
     "metadata": {},
     "output_type": "execute_result"
    }
   ],
   "source": [
    "classification_images(SeqTest7)"
   ]
  },
  {
   "cell_type": "markdown",
   "metadata": {},
   "source": [
    "Regardons à quoi ressemble l'image mal classfiée"
   ]
  },
  {
   "cell_type": "code",
   "execution_count": 49,
   "metadata": {},
   "outputs": [
    {
     "data": {
      "image/png": "[encoded data removed]",
      "text/plain": [
       "<Figure size 360x360 with 1 Axes>"
      ]
     },
     "metadata": {
      "needs_background": "light"
     },
     "output_type": "display_data"
    }
   ],
   "source": [
    "plt.figure(figsize=(5,5))\n",
    "images = []\n",
    "for i in SeqTest7[2]:\n",
    "\n",
    "    images.append(v[:,int(i)-1]) #Vmatrice symbole\n",
    "image = np.array(images).T\n",
    "plt.imshow(image*255, cmap=\"Greys\", interpolation=\"none\", aspect=\"auto\")\n",
    "plt.title('exemple mal classé de Seqtest7')\n",
    "plt.show()"
   ]
  },
  {
   "cell_type": "markdown",
   "metadata": {},
   "source": [
    "Cette image est difficile à identifier même pour un ếtre humain.\n",
    "On peut en conclure que pour un problème à trois classes et sur le jeu de donnée MNIST, les performances du modèle de Markov caché sont bonnes.\n",
    "\n",
    "Il faudra étudier ces performances sur des jeux de données plus complexe."
   ]
  }
 ],
 "metadata": {
  "kernelspec": {
   "display_name": "Python 3",
   "language": "python",
   "name": "python3"
  },
  "language_info": {
   "codemirror_mode": {
    "name": "ipython",
    "version": 3
   },
   "file_extension": ".py",
   "mimetype": "text/x-python",
   "name": "python",
   "nbconvert_exporter": "python",
   "pygments_lexer": "ipython3",
   "version": "3.7.3"
  }
 },
 "nbformat": 4,
 "nbformat_minor": 2
}
