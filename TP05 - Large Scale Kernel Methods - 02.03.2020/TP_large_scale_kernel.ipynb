{
 "cells": [
  {
   "cell_type": "markdown",
   "metadata": {},
   "source": [
    "# TP Large Scale Kernel Methods"
   ]
  },
  {
   "cell_type": "code",
   "execution_count": 59,
   "metadata": {},
   "outputs": [],
   "source": [
    "import numpy as np\n",
    "from scipy import linalg\n",
    "import matplotlib.pyplot as plt\n",
    "plt.style.use('ggplot')\n",
    "import math\n",
    "\n",
    "from sklearn.model_selection import train_test_split\n",
    "from sklearn.preprocessing import StandardScaler\n",
    "from sklearn.datasets import load_svmlight_file\n",
    "\n",
    "##Q1##\n",
    "from sklearn.svm import SVC, LinearSVC\n",
    "from time import time\n",
    "\n",
    "##Q2##\n",
    "from scipy.sparse.linalg import svds\n",
    "from scipy.linalg import svd\n",
    "\n",
    "##Q3##\n",
    "from numpy.linalg import norm\n",
    "\n",
    "##Q6##\n",
    "from sklearn.metrics.pairwise import rbf_kernel"
   ]
  },
  {
   "cell_type": "markdown",
   "metadata": {},
   "source": [
    "## Chargement et partitionnement des données"
   ]
  },
  {
   "cell_type": "code",
   "execution_count": 60,
   "metadata": {},
   "outputs": [
    {
     "name": "stdout",
     "output_type": "stream",
     "text": [
      "Nombre d'exemples d'apprentissage: 20000\n",
      "Nombre d'exemples de test: 40000\n",
      "Nombre de features: 22\n"
     ]
    }
   ],
   "source": [
    "###############################################################################\n",
    "# Requires file ijcnn1.dat.gz to be present in the directory\n",
    "\n",
    "dataset_path = 'ijcnn1.dat'\n",
    "ijcnn1 = load_svmlight_file(dataset_path)\n",
    "X = ijcnn1[0].todense()\n",
    "y = ijcnn1[1]\n",
    "\n",
    "###############################################################################\n",
    "# Extract features\n",
    "\n",
    "X_train, X_test, y_train, y_test = train_test_split(X[:60000, :], y[:60000],\n",
    "                     train_size=20000, random_state=42)\n",
    "\n",
    "scaler = StandardScaler()\n",
    "X_train = scaler.fit_transform(X_train)\n",
    "X_test = scaler.transform(X_test)\n",
    "\n",
    "n1, p = X_train.shape\n",
    "n2 = X_test.shape[0]\n",
    "\n",
    "print(\"Nombre d'exemples d'apprentissage:\", n1)\n",
    "print(\"Nombre d'exemples de test:\", n2)\n",
    "print(\"Nombre de features:\", p)"
   ]
  },
  {
   "cell_type": "markdown",
   "metadata": {},
   "source": [
    "## Question 1"
   ]
  },
  {
   "cell_type": "markdown",
   "metadata": {},
   "source": [
    "On va fitter nos données d'apprentissage avec un SVM linéaire et un SVM non-linéaire (noyau Gaussien) pour comparer leur score de prédiction ainsi que le temps de calcul nécessaire à l'apprentissage et à la prédiction."
   ]
  },
  {
   "cell_type": "code",
   "execution_count": 61,
   "metadata": {
    "scrolled": false
   },
   "outputs": [
    {
     "name": "stdout",
     "output_type": "stream",
     "text": [
      "Fitting SVC rbf on 20000 samples...\n",
      "done in 3.752s\n",
      "Predicting with SVC rbf on 40000 samples...\n",
      "done in 4.607s\n",
      "classification accuracy: 0.980\n"
     ]
    }
   ],
   "source": [
    "#Fitting non linear SVM with Gaussian kernel\n",
    "print(\"Fitting SVC rbf on %d samples...\" % X_train.shape[0])\n",
    "t0 = time()\n",
    "clf = SVC(kernel='rbf')\n",
    "clf.fit(X_train,y_train)\n",
    "print(\"done in %0.3fs\" % (time() - t0))\n",
    "\n",
    "#Prediction\n",
    "print(\"Predicting with SVC rbf on %d samples...\" % X_test.shape[0])\n",
    "t1 = time()\n",
    "clf.predict(X_test)\n",
    "print(\"done in %0.3fs\" % (time() - t1))\n",
    "timing_kernel = time() - t0\n",
    "\n",
    "#Accuracy\n",
    "accuracy_kernel = clf.score(X_test,y_test)\n",
    "print(\"classification accuracy: %0.3f\" % accuracy_kernel)\n"
   ]
  },
  {
   "cell_type": "code",
   "execution_count": 62,
   "metadata": {
    "scrolled": true
   },
   "outputs": [
    {
     "name": "stdout",
     "output_type": "stream",
     "text": [
      "Fitting linear SVC on 20000 samples...\n",
      "done in 0.094s\n",
      "Predicting with linear SVC on 40000 samples...\n",
      "done in 0.001s\n",
      "classification accuracy: 0.917\n"
     ]
    }
   ],
   "source": [
    "#Fitting Linear SVM\n",
    "print(\"Fitting linear SVC on %d samples...\" % X_train.shape[0])\n",
    "t0=time()\n",
    "clf_linear = LinearSVC(dual  =False)\n",
    "clf_linear.fit(X_train,y_train)\n",
    "print(\"done in %0.3fs\" % (time() - t0))\n",
    "\n",
    "#Prediction\n",
    "print(\"Predicting with linear SVC on %d samples...\" % X_test.shape[0])\n",
    "t1=time()\n",
    "clf_linear.predict(X_test)\n",
    "print(\"done in %0.3fs\" % (time() - t1))\n",
    "timing_linear = time() - t0\n",
    "\n",
    "#Accuracy\n",
    "accuracy_linear = clf_linear.score(X_test,y_test)\n",
    "print(\"classification accuracy: %0.3f\" % accuracy_linear) "
   ]
  },
  {
   "cell_type": "code",
   "execution_count": 63,
   "metadata": {},
   "outputs": [
    {
     "name": "stdout",
     "output_type": "stream",
     "text": [
      "Training the model and making predictions with the test set is 87 times shorter with the linear SVM than the non-Linear SVM with Gaussian Kernel\n"
     ]
    }
   ],
   "source": [
    "ratio_kernel_linear = str(round(timing_kernel/timing_linear))\n",
    "\n",
    "print('Training the model and making predictions with the test set is ' + ratio_kernel_linear + ' times shorter with the linear SVM than the non-Linear SVM with Gaussian Kernel' )"
   ]
  },
  {
   "cell_type": "markdown",
   "metadata": {},
   "source": [
    "**Commentaires**:\n",
    "\n",
    "- Le SVM linéaire sans noyau est beaucoup plus rapide que le  SVM non linéaire (entre 60 et 80x plus rapide), ce qui est pratique pour un passage à l'échelle\n",
    "- Cependant, le SVM non linéaire a un score de prédiction plus élevé par rapport au SVM linéaire(+0.063)\n",
    "- Il faut donc trouver un compromis ou une alternative afin de pouvoir faire passer le SVM non linéaire à l'échelle "
   ]
  },
  {
   "cell_type": "markdown",
   "metadata": {},
   "source": [
    "## Question 2"
   ]
  },
  {
   "cell_type": "markdown",
   "metadata": {},
   "source": [
    "On code une fonction qui calcule la meilleure approximation de rang $k$."
   ]
  },
  {
   "cell_type": "code",
   "execution_count": 75,
   "metadata": {},
   "outputs": [],
   "source": [
    "def rank_trunc(gram_mat, k, fast=True):\n",
    "    \"\"\"\n",
    "    k-th order approximation of the Gram Matrix G. (in regards to the Frobenius Norm)\n",
    "\n",
    "    Parameters\n",
    "    ----------\n",
    "    gram_mat : array, shape (n_samples, n_samples)\n",
    "        the Gram matrix\n",
    "    k : int\n",
    "        the order approximation\n",
    "    fast : bool\n",
    "        use svd (if False) or svds (if True).\n",
    "\n",
    "    Return\n",
    "    ------\n",
    "    gram_mat_k : array, shape (n_samples, n_samples)\n",
    "        The rank k Gram matrix.\n",
    "    \"\"\"\n",
    "    \n",
    "    if fast:\n",
    "        # TODO\n",
    "        u,s,vt = svds(gram_mat, k=k)\n",
    "        S=np.diag(s)\n",
    "        gram_mat_k=np.dot(np.dot(u,S),vt)\n",
    "        #gram_mat_k = u @ S @ vt\n",
    "    else:\n",
    "        # TODO\n",
    "        U,s,Vh= svd(gram_mat)\n",
    "        S_k=np.diag(s[:k])\n",
    "        gram_mat_k= np.dot(np.dot(U[:,:k],S_k),Vh[:k,:])\n",
    "        #gram_mat_k =U[:,:k] @ S_k @ Vh[:k]\n",
    "        \n",
    "        # s[np.newaxis,:k]\n",
    "        \n",
    "        \n",
    "    return gram_mat_k\n"
   ]
  },
  {
   "cell_type": "markdown",
   "metadata": {},
   "source": [
    "## Question 3"
   ]
  },
  {
   "cell_type": "markdown",
   "metadata": {},
   "source": [
    "On applique cette fonction sur la matrice décrite dans le sujet de TP."
   ]
  },
  {
   "cell_type": "code",
   "execution_count": 76,
   "metadata": {},
   "outputs": [
    {
     "name": "stdout",
     "output_type": "stream",
     "text": [
      "0 1\n",
      "1 2\n",
      "2 3\n",
      "3 4\n",
      "4 5\n",
      "5 6\n",
      "6 7\n",
      "7 8\n",
      "8 9\n",
      "9 10\n",
      "10 11\n",
      "11 12\n",
      "12 13\n",
      "13 14\n",
      "14 15\n",
      "15 16\n",
      "16 17\n",
      "17 18\n",
      "18 19\n",
      "19 20\n",
      "20 21\n",
      "21 22\n",
      "22 23\n",
      "23 24\n",
      "24 25\n",
      "25 26\n",
      "26 27\n",
      "27 28\n",
      "28 29\n",
      "29 30\n",
      "30 31\n",
      "31 32\n",
      "32 33\n",
      "33 34\n",
      "34 35\n",
      "35 36\n",
      "36 37\n",
      "37 38\n",
      "38 39\n",
      "39 40\n",
      "40 41\n",
      "41 42\n",
      "42 43\n",
      "43 44\n",
      "44 45\n",
      "45 46\n",
      "46 47\n",
      "47 48\n",
      "48 49\n",
      "49 50\n",
      "50 51\n",
      "51 52\n",
      "52 53\n",
      "53 54\n",
      "54 55\n",
      "55 56\n",
      "56 57\n",
      "57 58\n",
      "58 59\n",
      "59 60\n",
      "60 61\n",
      "61 62\n",
      "62 63\n",
      "63 64\n",
      "64 65\n",
      "65 66\n",
      "66 67\n",
      "67 68\n",
      "68 69\n",
      "69 70\n",
      "70 71\n",
      "71 72\n",
      "72 73\n",
      "73 74\n",
      "74 75\n",
      "75 76\n",
      "76 77\n",
      "77 78\n",
      "78 79\n",
      "79 80\n",
      "80 81\n",
      "81 82\n",
      "82 83\n",
      "83 84\n",
      "84 85\n",
      "85 86\n",
      "86 87\n",
      "87 88\n",
      "88 89\n",
      "89 90\n",
      "90 91\n",
      "91 92\n",
      "92 93\n",
      "93 94\n",
      "94 95\n",
      "95 96\n",
      "96 97\n",
      "97 98\n",
      "98 99\n",
      "99 100\n"
     ]
    }
   ],
   "source": [
    "p = 200\n",
    "r_noise = 100\n",
    "r_signal = 20\n",
    "\n",
    "intensity = 50\n",
    "\n",
    "rng = np.random.RandomState(42)\n",
    "X_noise = rng.randn(r_noise, p)\n",
    "X_signal = rng.randn(r_signal, p)\n",
    "\n",
    "gram_signal = np.dot(X_noise.T, X_noise) + intensity * np.dot(X_signal.T,\n",
    "                                                              X_signal)\n",
    "n_ranks = 100\n",
    "ranks = np.arange(1, n_ranks + 1)\n",
    "timing_fast = np.zeros(n_ranks)\n",
    "timing_slow = np.zeros(n_ranks)\n",
    "rel_error = np.zeros(n_ranks)\n",
    "\n",
    "for k, rank in enumerate(ranks):\n",
    "    print(k, rank)\n",
    "    t0 = time()\n",
    "    gram_mat_k = rank_trunc(gram_signal, rank, fast=True)\n",
    "    timing_fast[k] = time() - t0\n",
    "\n",
    "    t0 = time()\n",
    "    gram_mat_k = rank_trunc(gram_signal, rank, fast=False)\n",
    "    timing_slow[k] = time() - t0\n",
    "\n",
    "    # TODO: compute relative error with Frobenius norm\n",
    "    rel_error[k] = norm(gram_mat_k-gram_signal, ord='fro')/norm(gram_signal, ord='fro')"
   ]
  },
  {
   "cell_type": "code",
   "execution_count": 77,
   "metadata": {},
   "outputs": [
    {
     "data": {
      "image/png": "[encoded data removed]",
      "text/plain": [
       "<Figure size 720x432 with 2 Axes>"
      ]
     },
     "metadata": {},
     "output_type": "display_data"
    }
   ],
   "source": [
    "###############################################################################\n",
    "# Display\n",
    "\n",
    "f, axes = plt.subplots(ncols=1, nrows=2, figsize=(10,6))\n",
    "ax1, ax2 = axes.ravel()\n",
    "\n",
    "ax1.plot(ranks, timing_fast, '-', label='fast')\n",
    "ax1.plot(ranks, timing_slow, '-', label='slow')\n",
    "ax1.legend()\n",
    "\n",
    "ax1.set_xlabel('Rank')\n",
    "ax1.set_ylabel('Time')\n",
    "ax2.plot(ranks, rel_error, '-')\n",
    "ax2.set_xlabel('Rank')\n",
    "ax2.set_ylabel('Relative Error')\n",
    "plt.tight_layout()\n",
    "plt.show()"
   ]
  },
  {
   "cell_type": "markdown",
   "metadata": {},
   "source": [
    "**Commentaires**:\n",
    "\n",
    "- La méthode rapide est adaptée pour les matrices sparses ou les matrices pour lesquelles seules quelques valeurs propres sont calculées.\n",
    "- si le temps de calcul est plus court avec la méthode rapide pour un rang k inférieure à 20, ce temps augmente à partir de k >25 et dépasse celui de la méthode lente. Cette dernière reste stable quelque soit le rang.\n",
    "- L'erreur relative décroit rapidement de 1 vers 0.05 lorsque le rang croît de 0 à 20, puis se stabilise. Le rang de k= 100 doit ếtre atteint afin de s'approcher au mieux de 0.\n",
    "\n",
    "- si un compromis est nécessaire entre temps de calcul et une erreur satisfaisante, k = 20 semble idéal."
   ]
  },
  {
   "cell_type": "markdown",
   "metadata": {},
   "source": [
    "## Question 4"
   ]
  },
  {
   "cell_type": "markdown",
   "metadata": {},
   "source": [
    "On va implémenter l'algorithme de Random Kernel Features pour le noyau Gaussien."
   ]
  },
  {
   "cell_type": "code",
   "execution_count": 78,
   "metadata": {},
   "outputs": [],
   "source": [
    "def random_features(X_train, X_test, gamma, c=300, seed=44):\n",
    "    \"\"\"Compute random kernel features\n",
    "\n",
    "    Parameters\n",
    "    ----------\n",
    "    X_train : array, shape (n_samples1, n_features)\n",
    "        The train samples.\n",
    "    X_test : array, shape (n_samples2, n_features)\n",
    "        The test samples.\n",
    "    gamma : float\n",
    "        The Gaussian kernel parameter\n",
    "    c : int\n",
    "        The number of components\n",
    "    seed : int\n",
    "        The seed for random number generation\n",
    "\n",
    "    Return\n",
    "    ------\n",
    "    X_new_train : array, shape (n_samples1, c)\n",
    "        The new train samples.\n",
    "    X_new_test : array, shape (n_samples2, c)\n",
    "        The new test samples.\n",
    "    \"\"\"\n",
    "    rng = np.random.RandomState(seed)\n",
    "    n_samples, n_features = X_train.shape\n",
    "    \n",
    "    W =  rng.normal(0, 2*gamma, (n_features, c))\n",
    "    b =  rng.uniform(0, 2*math.pi, (1,c))\n",
    "    \n",
    "    X_new_train = np.sqrt(2/c)*np.cos(np.dot(X_train,W)+b)\n",
    "    X_new_test = np.sqrt(2/c)*np.cos(np.dot(X_test,W)+b)\n",
    "    \n",
    "    return X_new_train, X_new_test"
   ]
  },
  {
   "cell_type": "markdown",
   "metadata": {},
   "source": [
    "## Question 5"
   ]
  },
  {
   "cell_type": "markdown",
   "metadata": {},
   "source": [
    "On va maintenant appliquer cette méthode avec $c=300$."
   ]
  },
  {
   "cell_type": "code",
   "execution_count": 80,
   "metadata": {
    "scrolled": false
   },
   "outputs": [
    {
     "name": "stdout",
     "output_type": "stream",
     "text": [
      "Fitting SVC linear on 20000 samples...\n",
      "done in 0.982s\n",
      "Predicting with SVC linear on 40000 samples...\n",
      "done in 0.009s\n",
      "classification accuracy: 0.934\n"
     ]
    }
   ],
   "source": [
    "n_samples, n_features = X_train.shape\n",
    "n_samples_test, _ = X_test.shape\n",
    "gamma = 1. / n_features\n",
    "\n",
    "Z_train, Z_test = random_features(X_train, X_test, gamma, c=300, seed=44)\n",
    "\n",
    "#Fitting non-linear SVC with RKF\n",
    "print(\"Fitting SVC linear on %d samples...\" % n_samples)\n",
    "t0 = time()\n",
    "clf_rkf= LinearSVC(dual=False)\n",
    "clf_rkf.fit(Z_train, y_train)\n",
    "print(\"done in %0.3fs\" % (time() - t0))\n",
    "\n",
    "#Prediction\n",
    "print(\"Predicting with SVC linear on %d samples...\" % n_samples_test)\n",
    "t1 = time()\n",
    "clf_rkf.predict(Z_test)\n",
    "print(\"done in %0.3fs\" % (time() - t1))\n",
    "timing_rkf = time()-t0\n",
    "\n",
    "#Accuracy\n",
    "accuracy = clf_rkf.score(Z_test, y_test)\n",
    "print(\"classification accuracy: %0.3f\" % accuracy)\n"
   ]
  },
  {
   "cell_type": "code",
   "execution_count": null,
   "metadata": {},
   "outputs": [],
   "source": [
    "ratio_kernel_rkf = str(round(timing_kernel/timing_rkf))\n",
    "\n",
    "print('Training the model and making predictions with the test set is ' + ratio_kernel_rkf + ' times faster with features selected through the Random Kernel Feature methods than with all the features' )"
   ]
  },
  {
   "cell_type": "markdown",
   "metadata": {},
   "source": [
    "**Commentaires** : \n",
    "-  En utilisant la technique des Random Kernel Features, le temps de calcul sur l'entraînement et la prédiction pour le SVM non linéaire avec noyau Gaussien a été divisé par 8. Cependant il reste légèrement plus élevé que la méthode linéaire utilisée précédemment, ce qui s'explique par le nombre de features à sélectionner : 300\n",
    "\n",
    "- Les performances sont également inférieures au modèle non linéaire avec noyau Gaussien de départ: 0.046 de différence entre les deux précisions, justifié par la technique de RKF elle-même qui ne calcule qu'une valeur approximative du noyau afin de réduire le temps de calcul.\n",
    "\n",
    "- Il s'agit encore d'un compromis, mais la perte en performance est satisfaisante pour une telle diminution du temps de calcul   "
   ]
  },
  {
   "cell_type": "markdown",
   "metadata": {},
   "source": [
    "## Question 6"
   ]
  },
  {
   "cell_type": "markdown",
   "metadata": {},
   "source": [
    "On implémente la méthode de Nystrom."
   ]
  },
  {
   "cell_type": "code",
   "execution_count": null,
   "metadata": {},
   "outputs": [],
   "source": [
    "\n",
    "\n",
    "def nystrom(X_train, X_test, gamma, c=500, k=200, seed=44):\n",
    "    \"\"\"Compute nystrom kernel approximation\n",
    "\n",
    "    Parameters\n",
    "    ----------\n",
    "    X_train : array, shape (n_samples1, n_features)\n",
    "        The train samples.\n",
    "    X_test : array, shape (n_samples2, n_features)\n",
    "        The test samples.\n",
    "    gamma : float\n",
    "        The Gaussian kernel parameter\n",
    "    c : int\n",
    "        The number of points to sample for the approximation\n",
    "    k : int\n",
    "        The number of components\n",
    "    seed : int\n",
    "        The seed for random number generation\n",
    "\n",
    "    Return\n",
    "    ------\n",
    "    X_new_train : array, shape (n_samples1, c)\n",
    "        The new train samples.\n",
    "    X_new_test : array, shape (n_samples2, c)\n",
    "        The new test samples.\n",
    "    \"\"\"\n",
    "    \n",
    "    rng = np.random.RandomState(seed)\n",
    "    \n",
    "    n_samples = X_train.shape[0]\n",
    "    idx = rng.choice(n_samples, c)    \n",
    "    X_train_idx = X_train[idx, :]     \n",
    "        \n",
    "    n_samples_test = X_test.shape[0]\n",
    "    idx_test = rng.choice(n_samples_test,c)\n",
    "    X_test_idx = X_test[idx_test,:]\n",
    "    \n",
    "    W = rbf_kernel(X_train_idx, X_train_idx, gamma=gamma)\n",
    "    u,s,vt = svd(W, full_matrices=False)\n",
    "\n",
    "    W_k = np.dot(u[:,:k], np.dot(np.diag(s[:k]), vt[:k]))\n",
    "    \n",
    "    M = np.dot(vt[:k].T, np.diag(1/np.sqrt(s[:k])))\n",
    "    \n",
    "    Ctrain = rbf_kernel(X_train,X_train_idx)\n",
    "    Ctest = rbf_kernel(X_test,X_train_idx)\n",
    "    \n",
    "    X_new_train = np.dot(Ctrain,M)\n",
    "    X_new_test = np.dot(Ctest,M)\n",
    "    \n",
    "\n",
    "    return X_new_train, X_new_test"
   ]
  },
  {
   "cell_type": "markdown",
   "metadata": {},
   "source": [
    "## Question 7"
   ]
  },
  {
   "cell_type": "markdown",
   "metadata": {},
   "source": [
    "On va maintenant appliquer cette méthode également avec $c=500$ et $k=300$"
   ]
  },
  {
   "cell_type": "code",
   "execution_count": 85,
   "metadata": {
    "scrolled": true
   },
   "outputs": [
    {
     "name": "stdout",
     "output_type": "stream",
     "text": [
      "Fitting SVC linear on 20000 samples...\n",
      "done in 0.886s\n",
      "Predicting with SVC linear on 40000 samples...\n",
      "done in 0.009s\n",
      "classification accuracy: 0.976\n"
     ]
    }
   ],
   "source": [
    "Z_train, Z_test = nystrom(X_train, X_test, gamma, c=500, k=300, seed=44)\n",
    "\n",
    "#Fitting with Nystrom\n",
    "print(\"Fitting SVC linear on %d samples...\" % n_samples)\n",
    "t0 = time()\n",
    "clf_nystrom = LinearSVC(dual=False)\n",
    "clf_nystrom.fit(Z_train, y_train)\n",
    "print(\"done in %0.3fs\" % (time() - t0))\n",
    "\n",
    "#Predictions\n",
    "print(\"Predicting with SVC linear on %d samples...\" % n_samples_test)\n",
    "t1 = time()\n",
    "clf_nystrom.predict(Z_test)\n",
    "print(\"done in %0.3fs\" % (time() - t1))\n",
    "timing_nystrom=time() - t0\n",
    "\n",
    "#Accuracy\n",
    "accuracy = clf_nystrom.score(Z_test, y_test)\n",
    "print(\"classification accuracy: %0.3f\" % accuracy)\n"
   ]
  },
  {
   "cell_type": "code",
   "execution_count": 89,
   "metadata": {},
   "outputs": [
    {
     "name": "stdout",
     "output_type": "stream",
     "text": [
      "Training the model and making predictions with the test set is 9 times faster with features selected through the Nystrom methods than with all the features\n",
      "Training the model and making predictions with the test set is 1 times faster with features selected through the Nystrom methods than with RKF\n"
     ]
    }
   ],
   "source": [
    "ratio_kernel_nystrom = str(round(timing_kernel/timing_nystrom))\n",
    "ratio_rkf_nystrom = str(round(timing_rkf/timing_nystrom))\n",
    "\n",
    "print('Training the model and making predictions with the test set is ' + ratio_kernel_nystrom + ' times faster with features selected through the Nystrom methods than with all the features' )\n",
    "\n",
    "\n",
    "print('Training the model and making predictions with the test set is ' + ratio_rkf_nystrom + ' times faster with features selected through the Nystrom methods than with RKF' )"
   ]
  },
  {
   "cell_type": "code",
   "execution_count": 93,
   "metadata": {},
   "outputs": [
    {
     "name": "stdout",
     "output_type": "stream",
     "text": [
      "Temps de génération des features via Nystrom : 0.52sec\n",
      "Temps de génération des features via RKF : 0.18sec\n"
     ]
    }
   ],
   "source": [
    "##comparing time required to generate features between Nystrom and RKF\n",
    "t0 = time()\n",
    "Z_train, Z_test = nystrom(X_train, X_test, gamma, c=500, k=300, seed=44)\n",
    "generation_nystrom = time() - t0\n",
    "\n",
    "t0 = time()\n",
    "Z_train, Z_test = random_features(X_train, X_test, gamma, c=500, seed=44)\n",
    "generation_rkf = time() - t0\n",
    "\n",
    "print('Temps de génération des features via Nystrom : ' + str(round(generation_nystrom,2)) + 'sec' )\n",
    "print('Temps de génération des features via RKF : ' + str(round(generation_rkf,2)) + 'sec' )"
   ]
  },
  {
   "cell_type": "code",
   "execution_count": 94,
   "metadata": {},
   "outputs": [
    {
     "name": "stdout",
     "output_type": "stream",
     "text": [
      "Fitting SVC linear on 20000 samples...\n",
      "done in 1.440s\n",
      "Predicting with SVC linear on 40000 samples...\n",
      "done in 0.015s\n",
      "classification accuracy: 0.942\n"
     ]
    }
   ],
   "source": [
    "##RKF performance was based on c =300, let's compare it with c = 500 features\n",
    "\n",
    "Z_train, Z_test = random_features(X_train, X_test, gamma, c=500, seed=44)\n",
    "\n",
    "#Fitting non-linear SVC with RKF\n",
    "print(\"Fitting SVC linear on %d samples...\" % n_samples)\n",
    "t0 = time()\n",
    "clf_rkf= LinearSVC(dual=False)\n",
    "clf_rkf.fit(Z_train, y_train)\n",
    "print(\"done in %0.3fs\" % (time() - t0))\n",
    "\n",
    "#Prediction\n",
    "print(\"Predicting with SVC linear on %d samples...\" % n_samples_test)\n",
    "t1 = time()\n",
    "clf_rkf.predict(Z_test)\n",
    "print(\"done in %0.3fs\" % (time() - t1))\n",
    "timing_rkf = time()-t0\n",
    "\n",
    "#Accuracy\n",
    "accuracy = clf_rkf.score(Z_test, y_test)\n",
    "print(\"classification accuracy: %0.3f\" % accuracy)\n"
   ]
  },
  {
   "cell_type": "markdown",
   "metadata": {},
   "source": [
    "**Commentaires** : \n",
    "- En utilisant la technique de Nystrom, le temps de calcul sur l'entraînement et la prédiction pour le SVM non linéaire avec noyau Gaussien a été divisé par 9.\n",
    "- Le temps de calcul entre Nystrom et RKF est sensiblement le même\n",
    "- Cependant le temps pour générer les features est légèrement plus rapide pour RKF\n",
    "- le modèle de base ayant pour précision 0.98,  les performances du modèle utilisant la technique de Nystrom sont très satisfaisantes : 0.976, contre 0.942 pour le modèle avec RKF (calculé avec 500 features). Pour un même nombre d'observation aléatoire, Nystrom atteint de meilleurs performances"
   ]
  },
  {
   "cell_type": "markdown",
   "metadata": {},
   "source": [
    "## Question 8"
   ]
  },
  {
   "cell_type": "markdown",
   "metadata": {},
   "source": [
    "On va maintenant réaliser une synthèse des performances des RKF et de Nystrom pour un ensemble de paramètres."
   ]
  },
  {
   "cell_type": "code",
   "execution_count": 97,
   "metadata": {},
   "outputs": [
    {
     "name": "stdout",
     "output_type": "stream",
     "text": [
      "Training SVMs for various values of c...\n",
      "0 20\n",
      "1 70\n",
      "2 120\n",
      "3 170\n",
      "4 220\n",
      "5 270\n",
      "6 320\n",
      "7 370\n",
      "8 420\n",
      "9 470\n",
      "10 520\n",
      "11 570\n"
     ]
    }
   ],
   "source": [
    "ranks = np.arange(20, 600, 50)\n",
    "n_ranks = len(ranks)\n",
    "timing_rkf = np.zeros(n_ranks)\n",
    "timing_nystrom = np.zeros(n_ranks)\n",
    "timing_kernel = np.zeros(n_ranks)\n",
    "timing_linear = np.zeros(n_ranks)\n",
    "\n",
    "accuracy_nystrom = np.zeros(n_ranks)\n",
    "accuracy_rkf = np.zeros(n_ranks)\n",
    "accuracy_kernel = np.zeros(n_ranks)\n",
    "accuracy_linear = np.zeros(n_ranks)\n",
    "\n",
    "print(\"Training SVMs for various values of c...\")\n",
    "\n",
    "for i, c in enumerate(ranks):\n",
    "    print(i, c)\n",
    "    # TODO: compute time and prediction scores for RKF and Nystrom with respect to c\n",
    "    # put results in timing_rkf, timing_nystrom, accuracy_rkf, accuracy_nystrom\n",
    "    \n",
    "    #time and prediction scores for RKF\n",
    "    t0 = time()\n",
    "    clf_rkf = LinearSVC(dual = False)\n",
    "    Z_train,Z_test = random_features(X_train, X_test, gamma, c=c, seed = 2)\n",
    "    clf_rkf.fit(Z_train,y_train)\n",
    "    timing_rkf[i] = time() - t0\n",
    "    accuracy_rkf[i] = clf_rkf.score(Z_test,y_test)\n",
    "    \n",
    "    #time and prediction scores for Nystrom\n",
    "    t0 = time()\n",
    "    clf_nystrom = LinearSVC(dual=False)\n",
    "    Z_train, Z_test = nystrom(X_train, X_test, gamma, c=c, k=c-10, seed=2)\n",
    "    clf_nystrom.fit(Z_train, y_train)\n",
    "    timing_nystrom[i] = time() - t0\n",
    "    accuracy_nystrom[i] = clf_nystrom.score(Z_test, y_test)\n",
    "    \n",
    "    #time and prediction scores for RBF\n",
    "    t0 = time()\n",
    "    clf = SVC(kernel='rbf')\n",
    "    clf.fit(X_train, y_train)\n",
    "    timing_kernel[i] = time() - t0\n",
    "    accuracy_kernel[i] = clf.score(X_test, y_test)\n",
    "    \n",
    "    #time and prediction scores for the linear SVM\n",
    "    t0 = time()\n",
    "    clf = LinearSVC(dual=False)\n",
    "    clf.fit(X_train, y_train)\n",
    "    timing_linear[i] = time() - t0\n",
    "    accuracy_linear[i] = clf.score(X_test, y_test)"
   ]
  },
  {
   "cell_type": "code",
   "execution_count": 98,
   "metadata": {},
   "outputs": [
    {
     "data": {
      "image/png": "[encoded data removed]",
      "text/plain": [
       "<Figure size 720x432 with 2 Axes>"
      ]
     },
     "metadata": {},
     "output_type": "display_data"
    }
   ],
   "source": [
    "###############################################################################\n",
    "# Display bis\n",
    "\n",
    "f, axes = plt.subplots(ncols=1, nrows=2, figsize=(10,6))\n",
    "ax1, ax2 = axes.ravel()\n",
    "\n",
    "ax1.plot(ranks-10, timing_nystrom, '-', label='Nystrom')\n",
    "ax1.plot(ranks, timing_rkf, '-', label='RKF')\n",
    "ax1.plot(ranks, timing_linear * np.ones(n_ranks), '-', label='LinearSVC')\n",
    "ax1.plot(ranks, timing_kernel * np.ones(n_ranks), '-', label='RBF')\n",
    "\n",
    "ax1.set_xlabel('Number of features')\n",
    "ax1.set_ylabel('Time')\n",
    "ax1.legend(loc='lower right')\n",
    "\n",
    "ax2.plot(ranks-10, accuracy_nystrom, '-', label='Nystrom')\n",
    "ax2.plot(ranks, accuracy_rkf, '-', label='RKF')\n",
    "ax2.plot(ranks, accuracy_linear * np.ones(n_ranks), '-', label='LinearSVC')\n",
    "ax2.plot(ranks, accuracy_kernel * np.ones(n_ranks), '-', label='RBF')\n",
    "ax2.set_xlabel('Number of features')\n",
    "ax2.set_ylabel('Accuracy')\n",
    "ax2.legend(loc='lower right')\n",
    "plt.tight_layout()\n",
    "plt.show()"
   ]
  },
  {
   "cell_type": "markdown",
   "metadata": {
    "collapsed": true
   },
   "source": [
    "\n",
    "\n",
    "## Conclusion\n",
    "\n",
    "- Le modèle linaire est efficace en calcul mais sa performance en prédiction est faible. il ne dépend pas de k et son temps de calcul reste constant, par ailleurs, le nombre de feature est seulement de 22. \n",
    "- Le modèle à noyau est le meilleur en prédiction  puisqu'il calcule l'ensemble de la matrice de Gram, mais son temps de calcul est trop important pour un passage à l'échelle. \n",
    "- Le modèle de l'approximation de Nystrom, est le plus performant d'un point de vue compromis précision/ temps de calcul. Si il est moin bons aue le modèle linéaire sur de faibles nombres de features, cette précision augmente et devient très proche de celle du modèle à noyau (surtout à k= 400, tout en étant deux fois plus rapides en temps de calcul) \n",
    "- Le modèle rkf semble légèrement inférieur à celui de Nystrom, étant équivalent en temps de calcul, mais moins bon en précision.\n",
    "\n",
    "- Comportement asymptotique :\n",
    "> Pour **c = 0** , RKF et Nystrom sont équivalent au modèle linéaire pour le temps de calcul \\\n",
    "> Pour **c = 500**, il n'y a plus d'approximation, Nystrom calcule l'ensemble de la matrice de Gram, ce qui explique la convergence vers la précision du modèle à Noyau\n",
    "\n",
    "\n",
    " Dans ce TP, le modèle non linéaire avec la technique de Nystrom est le plus performant, mais il est possible de trouver des situations où les autres modèles s'en sortent mieux."
   ]
  },
  {
   "cell_type": "code",
   "execution_count": null,
   "metadata": {},
   "outputs": [],
   "source": []
  }
 ],
 "metadata": {
  "kernelspec": {
   "display_name": "Python 3",
   "language": "python",
   "name": "python3"
  },
  "language_info": {
   "codemirror_mode": {
    "name": "ipython",
    "version": 3
   },
   "file_extension": ".py",
   "mimetype": "text/x-python",
   "name": "python",
   "nbconvert_exporter": "python",
   "pygments_lexer": "ipython3",
   "version": "3.7.3"
  }
 },
 "nbformat": 4,
 "nbformat_minor": 2
}
